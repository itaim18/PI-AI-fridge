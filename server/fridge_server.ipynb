{
  "cells": [
    {
      "cell_type": "code",
      "execution_count": null,
      "metadata": {
        "colab": {
          "base_uri": "https://localhost:8080/"
        },
        "id": "51_k4-8Rju0S",
        "outputId": "a241e97d-fa86-4f15-d7fa-785f449c6dda"
      },
      "outputs": [
        {
          "name": "stdout",
          "output_type": "stream",
          "text": [
            "Collecting flask-ngrok\n",
            "  Downloading flask_ngrok-0.0.25-py3-none-any.whl.metadata (1.8 kB)\n",
            "Requirement already satisfied: Flask>=0.8 in /usr/local/lib/python3.11/dist-packages (from flask-ngrok) (3.1.0)\n",
            "Requirement already satisfied: requests in /usr/local/lib/python3.11/dist-packages (from flask-ngrok) (2.32.3)\n",
            "Requirement already satisfied: Werkzeug>=3.1 in /usr/local/lib/python3.11/dist-packages (from Flask>=0.8->flask-ngrok) (3.1.3)\n",
            "Requirement already satisfied: Jinja2>=3.1.2 in /usr/local/lib/python3.11/dist-packages (from Flask>=0.8->flask-ngrok) (3.1.5)\n",
            "Requirement already satisfied: itsdangerous>=2.2 in /usr/local/lib/python3.11/dist-packages (from Flask>=0.8->flask-ngrok) (2.2.0)\n",
            "Requirement already satisfied: click>=8.1.3 in /usr/local/lib/python3.11/dist-packages (from Flask>=0.8->flask-ngrok) (8.1.8)\n",
            "Requirement already satisfied: blinker>=1.9 in /usr/local/lib/python3.11/dist-packages (from Flask>=0.8->flask-ngrok) (1.9.0)\n",
            "Requirement already satisfied: charset-normalizer<4,>=2 in /usr/local/lib/python3.11/dist-packages (from requests->flask-ngrok) (3.4.1)\n",
            "Requirement already satisfied: idna<4,>=2.5 in /usr/local/lib/python3.11/dist-packages (from requests->flask-ngrok) (3.10)\n",
            "Requirement already satisfied: urllib3<3,>=1.21.1 in /usr/local/lib/python3.11/dist-packages (from requests->flask-ngrok) (2.3.0)\n",
            "Requirement already satisfied: certifi>=2017.4.17 in /usr/local/lib/python3.11/dist-packages (from requests->flask-ngrok) (2025.1.31)\n",
            "Requirement already satisfied: MarkupSafe>=2.0 in /usr/local/lib/python3.11/dist-packages (from Jinja2>=3.1.2->Flask>=0.8->flask-ngrok) (3.0.2)\n",
            "Downloading flask_ngrok-0.0.25-py3-none-any.whl (3.1 kB)\n",
            "Installing collected packages: flask-ngrok\n",
            "Successfully installed flask-ngrok-0.0.25\n",
            "Collecting pyngrok\n",
            "  Downloading pyngrok-7.2.3-py3-none-any.whl.metadata (8.7 kB)\n",
            "Requirement already satisfied: PyYAML>=5.1 in /usr/local/lib/python3.11/dist-packages (from pyngrok) (6.0.2)\n",
            "Downloading pyngrok-7.2.3-py3-none-any.whl (23 kB)\n",
            "Installing collected packages: pyngrok\n",
            "Successfully installed pyngrok-7.2.3\n"
          ]
        }
      ],
      "source": [
        "# prompt: install flask-ngrok and pyngrok\n",
        "\n",
        "!pip install flask-ngrok\n",
        "!pip install pyngrok\n"
      ]
    },
    {
      "cell_type": "code",
      "execution_count": null,
      "metadata": {
        "colab": {
          "base_uri": "https://localhost:8080/"
        },
        "id": "Do6XV3lAj8NB",
        "outputId": "cd0126bd-b7a0-4097-fbc9-4ecbbd60ea78"
      },
      "outputs": [
        {
          "name": "stdout",
          "output_type": "stream",
          "text": [
            "Authtoken saved to configuration file: /root/.config/ngrok/ngrok.yml\n"
          ]
        }
      ],
      "source": [
        "# prompt: authenticate ngrok\n",
        "\n",
        "!ngrok authtoken \"YOUR_NGROK_AUTHTOKEN\"\n",
        "\n"
      ]
    },
    {
      "cell_type": "code",
      "execution_count": null,
      "metadata": {
        "colab": {
          "base_uri": "https://localhost:8080/"
        },
        "id": "Llc1SY36kaG0",
        "outputId": "7ca90dd2-ec0c-4375-ee53-4fb5bd76565c"
      },
      "outputs": [
        {
          "name": "stdout",
          "output_type": "stream",
          "text": [
            "Collecting flask-cors\n",
            "  Downloading flask_cors-5.0.1-py3-none-any.whl.metadata (961 bytes)\n",
            "Collecting flask-socketio\n",
            "  Downloading Flask_SocketIO-5.5.1-py3-none-any.whl.metadata (2.6 kB)\n",
            "Requirement already satisfied: flask>=0.9 in /usr/local/lib/python3.11/dist-packages (from flask-cors) (3.1.0)\n",
            "Requirement already satisfied: Werkzeug>=0.7 in /usr/local/lib/python3.11/dist-packages (from flask-cors) (3.1.3)\n",
            "Collecting python-socketio>=5.12.0 (from flask-socketio)\n",
            "  Downloading python_socketio-5.12.1-py3-none-any.whl.metadata (3.2 kB)\n",
            "Requirement already satisfied: Jinja2>=3.1.2 in /usr/local/lib/python3.11/dist-packages (from flask>=0.9->flask-cors) (3.1.5)\n",
            "Requirement already satisfied: itsdangerous>=2.2 in /usr/local/lib/python3.11/dist-packages (from flask>=0.9->flask-cors) (2.2.0)\n",
            "Requirement already satisfied: click>=8.1.3 in /usr/local/lib/python3.11/dist-packages (from flask>=0.9->flask-cors) (8.1.8)\n",
            "Requirement already satisfied: blinker>=1.9 in /usr/local/lib/python3.11/dist-packages (from flask>=0.9->flask-cors) (1.9.0)\n",
            "Collecting bidict>=0.21.0 (from python-socketio>=5.12.0->flask-socketio)\n",
            "  Downloading bidict-0.23.1-py3-none-any.whl.metadata (8.7 kB)\n",
            "Collecting python-engineio>=4.11.0 (from python-socketio>=5.12.0->flask-socketio)\n",
            "  Downloading python_engineio-4.11.2-py3-none-any.whl.metadata (2.2 kB)\n",
            "Requirement already satisfied: MarkupSafe>=2.1.1 in /usr/local/lib/python3.11/dist-packages (from Werkzeug>=0.7->flask-cors) (3.0.2)\n",
            "Collecting simple-websocket>=0.10.0 (from python-engineio>=4.11.0->python-socketio>=5.12.0->flask-socketio)\n",
            "  Downloading simple_websocket-1.1.0-py3-none-any.whl.metadata (1.5 kB)\n",
            "Collecting wsproto (from simple-websocket>=0.10.0->python-engineio>=4.11.0->python-socketio>=5.12.0->flask-socketio)\n",
            "  Downloading wsproto-1.2.0-py3-none-any.whl.metadata (5.6 kB)\n",
            "Requirement already satisfied: h11<1,>=0.9.0 in /usr/local/lib/python3.11/dist-packages (from wsproto->simple-websocket>=0.10.0->python-engineio>=4.11.0->python-socketio>=5.12.0->flask-socketio) (0.14.0)\n",
            "Downloading flask_cors-5.0.1-py3-none-any.whl (11 kB)\n",
            "Downloading Flask_SocketIO-5.5.1-py3-none-any.whl (18 kB)\n",
            "Downloading python_socketio-5.12.1-py3-none-any.whl (76 kB)\n",
            "\u001b[2K   \u001b[90m━━━━━━━━━━━━━━━━━━━━━━━━━━━━━━━━━━━━━━━━\u001b[0m \u001b[32m76.9/76.9 kB\u001b[0m \u001b[31m4.5 MB/s\u001b[0m eta \u001b[36m0:00:00\u001b[0m\n",
            "\u001b[?25hDownloading bidict-0.23.1-py3-none-any.whl (32 kB)\n",
            "Downloading python_engineio-4.11.2-py3-none-any.whl (59 kB)\n",
            "\u001b[2K   \u001b[90m━━━━━━━━━━━━━━━━━━━━━━━━━━━━━━━━━━━━━━━━\u001b[0m \u001b[32m59.2/59.2 kB\u001b[0m \u001b[31m3.7 MB/s\u001b[0m eta \u001b[36m0:00:00\u001b[0m\n",
            "\u001b[?25hDownloading simple_websocket-1.1.0-py3-none-any.whl (13 kB)\n",
            "Downloading wsproto-1.2.0-py3-none-any.whl (24 kB)\n",
            "Installing collected packages: wsproto, bidict, simple-websocket, python-engineio, flask-cors, python-socketio, flask-socketio\n",
            "Successfully installed bidict-0.23.1 flask-cors-5.0.1 flask-socketio-5.5.1 python-engineio-4.11.2 python-socketio-5.12.1 simple-websocket-1.1.0 wsproto-1.2.0\n"
          ]
        }
      ],
      "source": [
        "# prompt: install flask_cors and flask_socketio\n",
        "\n",
        "!pip install flask-cors flask-socketio\n"
      ]
    },
    {
      "cell_type": "code",
      "execution_count": null,
      "metadata": {
        "colab": {
          "background_save": true,
          "base_uri": "https://localhost:8080/"
        },
        "id": "keFbljdYkU7h",
        "outputId": "7fd09bed-5cc2-4201-d4e9-65b04685a906"
      },
      "outputs": [
        {
          "name": "stderr",
          "output_type": "stream",
          "text": [
            "WARNING:werkzeug:Werkzeug appears to be used in a production deployment. Consider switching to a production web server instead.\n"
          ]
        },
        {
          "name": "stdout",
          "output_type": "stream",
          "text": [
            "ngrok public URL: NgrokTunnel: \"https://04d474a16f90.ngrok.app\" -> \"http://localhost:5000\"\n",
            " * Serving Flask app '__main__'\n",
            " * Debug mode: off\n"
          ]
        },
        {
          "name": "stderr",
          "output_type": "stream",
          "text": [
            "INFO:werkzeug:\u001b[31m\u001b[1mWARNING: This is a development server. Do not use it in a production deployment. Use a production WSGI server instead.\u001b[0m\n",
            " * Running on all addresses (0.0.0.0)\n",
            " * Running on http://127.0.0.1:5000\n",
            " * Running on http://172.28.0.12:5000\n",
            "INFO:werkzeug:\u001b[33mPress CTRL+C to quit\u001b[0m\n",
            "INFO:werkzeug:127.0.0.1 - - [10/Mar/2025 16:19:30] \"GET / HTTP/1.1\" 200 -\n",
            "INFO:werkzeug:127.0.0.1 - - [10/Mar/2025 16:19:31] \"\u001b[33mGET /favicon.ico HTTP/1.1\u001b[0m\" 404 -\n",
            "INFO:werkzeug:127.0.0.1 - - [10/Mar/2025 16:22:17] \"\u001b[35m\u001b[1mGET /socket.io/?EIO=4&transport=websocket HTTP/1.1\u001b[0m\" 500 -\n",
            "ERROR:werkzeug:Error on request:\n",
            "Traceback (most recent call last):\n",
            "  File \"/usr/local/lib/python3.11/dist-packages/werkzeug/serving.py\", line 370, in run_wsgi\n",
            "    execute(self.server.app)\n",
            "  File \"/usr/local/lib/python3.11/dist-packages/werkzeug/serving.py\", line 336, in execute\n",
            "    write(b\"\")\n",
            "  File \"/usr/local/lib/python3.11/dist-packages/werkzeug/serving.py\", line 261, in write\n",
            "    assert status_set is not None, \"write() before start_response\"\n",
            "           ^^^^^^^^^^^^^^^^^^^^^^^^^^^^^^^^^^^^^^^^^^^^^^^^^^^^^^^\n",
            "AssertionError: write() before start_response\n",
            "INFO:werkzeug:127.0.0.1 - - [10/Mar/2025 16:23:08] \"\u001b[35m\u001b[1mGET /socket.io/?EIO=4&transport=websocket HTTP/1.1\u001b[0m\" 500 -\n",
            "ERROR:werkzeug:Error on request:\n",
            "Traceback (most recent call last):\n",
            "  File \"/usr/local/lib/python3.11/dist-packages/werkzeug/serving.py\", line 370, in run_wsgi\n",
            "    execute(self.server.app)\n",
            "  File \"/usr/local/lib/python3.11/dist-packages/werkzeug/serving.py\", line 336, in execute\n",
            "    write(b\"\")\n",
            "  File \"/usr/local/lib/python3.11/dist-packages/werkzeug/serving.py\", line 261, in write\n",
            "    assert status_set is not None, \"write() before start_response\"\n",
            "           ^^^^^^^^^^^^^^^^^^^^^^^^^^^^^^^^^^^^^^^^^^^^^^^^^^^^^^^\n",
            "AssertionError: write() before start_response\n",
            "INFO:werkzeug:127.0.0.1 - - [10/Mar/2025 16:23:42] \"\u001b[35m\u001b[1mGET /socket.io/?EIO=4&transport=websocket HTTP/1.1\u001b[0m\" 500 -\n",
            "ERROR:werkzeug:Error on request:\n",
            "Traceback (most recent call last):\n",
            "  File \"/usr/local/lib/python3.11/dist-packages/werkzeug/serving.py\", line 370, in run_wsgi\n",
            "    execute(self.server.app)\n",
            "  File \"/usr/local/lib/python3.11/dist-packages/werkzeug/serving.py\", line 336, in execute\n",
            "    write(b\"\")\n",
            "  File \"/usr/local/lib/python3.11/dist-packages/werkzeug/serving.py\", line 261, in write\n",
            "    assert status_set is not None, \"write() before start_response\"\n",
            "           ^^^^^^^^^^^^^^^^^^^^^^^^^^^^^^^^^^^^^^^^^^^^^^^^^^^^^^^\n",
            "AssertionError: write() before start_response\n",
            "INFO:werkzeug:127.0.0.1 - - [10/Mar/2025 16:26:24] \"\u001b[35m\u001b[1mGET /socket.io/?EIO=4&transport=websocket HTTP/1.1\u001b[0m\" 500 -\n",
            "ERROR:werkzeug:Error on request:\n",
            "Traceback (most recent call last):\n",
            "  File \"/usr/local/lib/python3.11/dist-packages/werkzeug/serving.py\", line 370, in run_wsgi\n",
            "    execute(self.server.app)\n",
            "  File \"/usr/local/lib/python3.11/dist-packages/werkzeug/serving.py\", line 336, in execute\n",
            "    write(b\"\")\n",
            "  File \"/usr/local/lib/python3.11/dist-packages/werkzeug/serving.py\", line 261, in write\n",
            "    assert status_set is not None, \"write() before start_response\"\n",
            "           ^^^^^^^^^^^^^^^^^^^^^^^^^^^^^^^^^^^^^^^^^^^^^^^^^^^^^^^\n",
            "AssertionError: write() before start_response\n",
            "INFO:werkzeug:127.0.0.1 - - [10/Mar/2025 16:28:13] \"\u001b[35m\u001b[1mGET /socket.io/?EIO=4&transport=websocket HTTP/1.1\u001b[0m\" 500 -\n",
            "ERROR:werkzeug:Error on request:\n",
            "Traceback (most recent call last):\n",
            "  File \"/usr/local/lib/python3.11/dist-packages/werkzeug/serving.py\", line 370, in run_wsgi\n",
            "    execute(self.server.app)\n",
            "  File \"/usr/local/lib/python3.11/dist-packages/werkzeug/serving.py\", line 336, in execute\n",
            "    write(b\"\")\n",
            "  File \"/usr/local/lib/python3.11/dist-packages/werkzeug/serving.py\", line 261, in write\n",
            "    assert status_set is not None, \"write() before start_response\"\n",
            "           ^^^^^^^^^^^^^^^^^^^^^^^^^^^^^^^^^^^^^^^^^^^^^^^^^^^^^^^\n",
            "AssertionError: write() before start_response\n",
            "INFO:werkzeug:127.0.0.1 - - [10/Mar/2025 16:28:16] \"\u001b[35m\u001b[1mGET /socket.io/?EIO=4&transport=websocket HTTP/1.1\u001b[0m\" 500 -\n",
            "ERROR:werkzeug:Error on request:\n",
            "Traceback (most recent call last):\n",
            "  File \"/usr/local/lib/python3.11/dist-packages/werkzeug/serving.py\", line 370, in run_wsgi\n",
            "    execute(self.server.app)\n",
            "  File \"/usr/local/lib/python3.11/dist-packages/werkzeug/serving.py\", line 336, in execute\n",
            "    write(b\"\")\n",
            "  File \"/usr/local/lib/python3.11/dist-packages/werkzeug/serving.py\", line 261, in write\n",
            "    assert status_set is not None, \"write() before start_response\"\n",
            "           ^^^^^^^^^^^^^^^^^^^^^^^^^^^^^^^^^^^^^^^^^^^^^^^^^^^^^^^\n",
            "AssertionError: write() before start_response\n",
            "INFO:werkzeug:127.0.0.1 - - [10/Mar/2025 16:30:22] \"\u001b[35m\u001b[1mGET /socket.io/?EIO=4&transport=websocket HTTP/1.1\u001b[0m\" 500 -\n",
            "ERROR:werkzeug:Error on request:\n",
            "Traceback (most recent call last):\n",
            "  File \"/usr/local/lib/python3.11/dist-packages/werkzeug/serving.py\", line 370, in run_wsgi\n",
            "    execute(self.server.app)\n",
            "  File \"/usr/local/lib/python3.11/dist-packages/werkzeug/serving.py\", line 336, in execute\n",
            "    write(b\"\")\n",
            "  File \"/usr/local/lib/python3.11/dist-packages/werkzeug/serving.py\", line 261, in write\n",
            "    assert status_set is not None, \"write() before start_response\"\n",
            "           ^^^^^^^^^^^^^^^^^^^^^^^^^^^^^^^^^^^^^^^^^^^^^^^^^^^^^^^\n",
            "AssertionError: write() before start_response\n",
            "INFO:werkzeug:127.0.0.1 - - [10/Mar/2025 16:32:17] \"\u001b[35m\u001b[1mGET /socket.io/?EIO=4&transport=websocket HTTP/1.1\u001b[0m\" 500 -\n",
            "ERROR:werkzeug:Error on request:\n",
            "Traceback (most recent call last):\n",
            "  File \"/usr/local/lib/python3.11/dist-packages/werkzeug/serving.py\", line 370, in run_wsgi\n",
            "    execute(self.server.app)\n",
            "  File \"/usr/local/lib/python3.11/dist-packages/werkzeug/serving.py\", line 336, in execute\n",
            "    write(b\"\")\n",
            "  File \"/usr/local/lib/python3.11/dist-packages/werkzeug/serving.py\", line 261, in write\n",
            "    assert status_set is not None, \"write() before start_response\"\n",
            "           ^^^^^^^^^^^^^^^^^^^^^^^^^^^^^^^^^^^^^^^^^^^^^^^^^^^^^^^\n",
            "AssertionError: write() before start_response\n",
            "INFO:werkzeug:127.0.0.1 - - [10/Mar/2025 16:32:49] \"\u001b[35m\u001b[1mGET /socket.io/?EIO=4&transport=websocket HTTP/1.1\u001b[0m\" 500 -\n",
            "ERROR:werkzeug:Error on request:\n",
            "Traceback (most recent call last):\n",
            "  File \"/usr/local/lib/python3.11/dist-packages/werkzeug/serving.py\", line 370, in run_wsgi\n",
            "    execute(self.server.app)\n",
            "  File \"/usr/local/lib/python3.11/dist-packages/werkzeug/serving.py\", line 336, in execute\n",
            "    write(b\"\")\n",
            "  File \"/usr/local/lib/python3.11/dist-packages/werkzeug/serving.py\", line 261, in write\n",
            "    assert status_set is not None, \"write() before start_response\"\n",
            "           ^^^^^^^^^^^^^^^^^^^^^^^^^^^^^^^^^^^^^^^^^^^^^^^^^^^^^^^\n",
            "AssertionError: write() before start_response\n",
            "INFO:werkzeug:127.0.0.1 - - [10/Mar/2025 16:33:17] \"\u001b[35m\u001b[1mGET /socket.io/?EIO=4&transport=websocket HTTP/1.1\u001b[0m\" 500 -\n",
            "ERROR:werkzeug:Error on request:\n",
            "Traceback (most recent call last):\n",
            "  File \"/usr/local/lib/python3.11/dist-packages/werkzeug/serving.py\", line 370, in run_wsgi\n",
            "    execute(self.server.app)\n",
            "  File \"/usr/local/lib/python3.11/dist-packages/werkzeug/serving.py\", line 336, in execute\n",
            "    write(b\"\")\n",
            "  File \"/usr/local/lib/python3.11/dist-packages/werkzeug/serving.py\", line 261, in write\n",
            "    assert status_set is not None, \"write() before start_response\"\n",
            "           ^^^^^^^^^^^^^^^^^^^^^^^^^^^^^^^^^^^^^^^^^^^^^^^^^^^^^^^\n",
            "AssertionError: write() before start_response\n",
            "INFO:werkzeug:127.0.0.1 - - [10/Mar/2025 16:39:18] \"\u001b[35m\u001b[1mGET /socket.io/?EIO=4&transport=websocket HTTP/1.1\u001b[0m\" 500 -\n",
            "ERROR:werkzeug:Error on request:\n",
            "Traceback (most recent call last):\n",
            "  File \"/usr/local/lib/python3.11/dist-packages/werkzeug/serving.py\", line 370, in run_wsgi\n",
            "    execute(self.server.app)\n",
            "  File \"/usr/local/lib/python3.11/dist-packages/werkzeug/serving.py\", line 336, in execute\n",
            "    write(b\"\")\n",
            "  File \"/usr/local/lib/python3.11/dist-packages/werkzeug/serving.py\", line 261, in write\n",
            "    assert status_set is not None, \"write() before start_response\"\n",
            "           ^^^^^^^^^^^^^^^^^^^^^^^^^^^^^^^^^^^^^^^^^^^^^^^^^^^^^^^\n",
            "AssertionError: write() before start_response\n",
            "INFO:werkzeug:127.0.0.1 - - [10/Mar/2025 16:43:06] \"\u001b[35m\u001b[1mGET /socket.io/?EIO=4&transport=websocket HTTP/1.1\u001b[0m\" 500 -\n",
            "ERROR:werkzeug:Error on request:\n",
            "Traceback (most recent call last):\n",
            "  File \"/usr/local/lib/python3.11/dist-packages/werkzeug/serving.py\", line 370, in run_wsgi\n",
            "    execute(self.server.app)\n",
            "  File \"/usr/local/lib/python3.11/dist-packages/werkzeug/serving.py\", line 336, in execute\n",
            "    write(b\"\")\n",
            "  File \"/usr/local/lib/python3.11/dist-packages/werkzeug/serving.py\", line 261, in write\n",
            "    assert status_set is not None, \"write() before start_response\"\n",
            "           ^^^^^^^^^^^^^^^^^^^^^^^^^^^^^^^^^^^^^^^^^^^^^^^^^^^^^^^\n",
            "AssertionError: write() before start_response\n",
            "INFO:werkzeug:127.0.0.1 - - [10/Mar/2025 16:43:34] \"POST /message HTTP/1.1\" 200 -\n"
          ]
        },
        {
          "name": "stdout",
          "output_type": "stream",
          "text": [
            "Received message: {'in': [], 'out': ['milk']}\n"
          ]
        },
        {
          "name": "stderr",
          "output_type": "stream",
          "text": [
            "INFO:werkzeug:127.0.0.1 - - [10/Mar/2025 16:44:19] \"\u001b[35m\u001b[1mGET /socket.io/?EIO=4&transport=websocket HTTP/1.1\u001b[0m\" 500 -\n",
            "ERROR:werkzeug:Error on request:\n",
            "Traceback (most recent call last):\n",
            "  File \"/usr/local/lib/python3.11/dist-packages/werkzeug/serving.py\", line 370, in run_wsgi\n",
            "    execute(self.server.app)\n",
            "  File \"/usr/local/lib/python3.11/dist-packages/werkzeug/serving.py\", line 336, in execute\n",
            "    write(b\"\")\n",
            "  File \"/usr/local/lib/python3.11/dist-packages/werkzeug/serving.py\", line 261, in write\n",
            "    assert status_set is not None, \"write() before start_response\"\n",
            "           ^^^^^^^^^^^^^^^^^^^^^^^^^^^^^^^^^^^^^^^^^^^^^^^^^^^^^^^\n",
            "AssertionError: write() before start_response\n",
            "INFO:werkzeug:127.0.0.1 - - [10/Mar/2025 16:46:08] \"\u001b[35m\u001b[1mGET /socket.io/?EIO=4&transport=websocket HTTP/1.1\u001b[0m\" 500 -\n",
            "ERROR:werkzeug:Error on request:\n",
            "Traceback (most recent call last):\n",
            "  File \"/usr/local/lib/python3.11/dist-packages/werkzeug/serving.py\", line 370, in run_wsgi\n",
            "    execute(self.server.app)\n",
            "  File \"/usr/local/lib/python3.11/dist-packages/werkzeug/serving.py\", line 336, in execute\n",
            "    write(b\"\")\n",
            "  File \"/usr/local/lib/python3.11/dist-packages/werkzeug/serving.py\", line 261, in write\n",
            "    assert status_set is not None, \"write() before start_response\"\n",
            "           ^^^^^^^^^^^^^^^^^^^^^^^^^^^^^^^^^^^^^^^^^^^^^^^^^^^^^^^\n",
            "AssertionError: write() before start_response\n",
            "INFO:werkzeug:127.0.0.1 - - [10/Mar/2025 16:49:51] \"\u001b[35m\u001b[1mGET /socket.io/?EIO=4&transport=websocket HTTP/1.1\u001b[0m\" 500 -\n",
            "ERROR:werkzeug:Error on request:\n",
            "Traceback (most recent call last):\n",
            "  File \"/usr/local/lib/python3.11/dist-packages/werkzeug/serving.py\", line 370, in run_wsgi\n",
            "    execute(self.server.app)\n",
            "  File \"/usr/local/lib/python3.11/dist-packages/werkzeug/serving.py\", line 336, in execute\n",
            "    write(b\"\")\n",
            "  File \"/usr/local/lib/python3.11/dist-packages/werkzeug/serving.py\", line 261, in write\n",
            "    assert status_set is not None, \"write() before start_response\"\n",
            "           ^^^^^^^^^^^^^^^^^^^^^^^^^^^^^^^^^^^^^^^^^^^^^^^^^^^^^^^\n",
            "AssertionError: write() before start_response\n",
            "INFO:werkzeug:127.0.0.1 - - [10/Mar/2025 16:50:59] \"POST /message HTTP/1.1\" 200 -\n"
          ]
        },
        {
          "name": "stdout",
          "output_type": "stream",
          "text": [
            "Received message: {'in': [], 'out': ['pittas', 'milk', 'cheese', 'coke']}\n"
          ]
        },
        {
          "name": "stderr",
          "output_type": "stream",
          "text": [
            "INFO:werkzeug:127.0.0.1 - - [10/Mar/2025 16:51:19] \"\u001b[35m\u001b[1mGET /socket.io/?EIO=4&transport=websocket HTTP/1.1\u001b[0m\" 500 -\n",
            "ERROR:werkzeug:Error on request:\n",
            "Traceback (most recent call last):\n",
            "  File \"/usr/local/lib/python3.11/dist-packages/werkzeug/serving.py\", line 370, in run_wsgi\n",
            "    execute(self.server.app)\n",
            "  File \"/usr/local/lib/python3.11/dist-packages/werkzeug/serving.py\", line 336, in execute\n",
            "    write(b\"\")\n",
            "  File \"/usr/local/lib/python3.11/dist-packages/werkzeug/serving.py\", line 261, in write\n",
            "    assert status_set is not None, \"write() before start_response\"\n",
            "           ^^^^^^^^^^^^^^^^^^^^^^^^^^^^^^^^^^^^^^^^^^^^^^^^^^^^^^^\n",
            "AssertionError: write() before start_response\n",
            "INFO:werkzeug:127.0.0.1 - - [10/Mar/2025 16:51:43] \"\u001b[35m\u001b[1mGET /socket.io/?EIO=4&transport=websocket HTTP/1.1\u001b[0m\" 500 -\n",
            "ERROR:werkzeug:Error on request:\n",
            "Traceback (most recent call last):\n",
            "  File \"/usr/local/lib/python3.11/dist-packages/werkzeug/serving.py\", line 370, in run_wsgi\n",
            "    execute(self.server.app)\n",
            "  File \"/usr/local/lib/python3.11/dist-packages/werkzeug/serving.py\", line 336, in execute\n",
            "    write(b\"\")\n",
            "  File \"/usr/local/lib/python3.11/dist-packages/werkzeug/serving.py\", line 261, in write\n",
            "    assert status_set is not None, \"write() before start_response\"\n",
            "           ^^^^^^^^^^^^^^^^^^^^^^^^^^^^^^^^^^^^^^^^^^^^^^^^^^^^^^^\n",
            "AssertionError: write() before start_response\n",
            "INFO:werkzeug:127.0.0.1 - - [10/Mar/2025 16:51:43] \"\u001b[35m\u001b[1mGET /socket.io/?EIO=4&transport=websocket HTTP/1.1\u001b[0m\" 500 -\n",
            "ERROR:werkzeug:Error on request:\n",
            "Traceback (most recent call last):\n",
            "  File \"/usr/local/lib/python3.11/dist-packages/werkzeug/serving.py\", line 370, in run_wsgi\n",
            "    execute(self.server.app)\n",
            "  File \"/usr/local/lib/python3.11/dist-packages/werkzeug/serving.py\", line 336, in execute\n",
            "    write(b\"\")\n",
            "  File \"/usr/local/lib/python3.11/dist-packages/werkzeug/serving.py\", line 261, in write\n",
            "    assert status_set is not None, \"write() before start_response\"\n",
            "           ^^^^^^^^^^^^^^^^^^^^^^^^^^^^^^^^^^^^^^^^^^^^^^^^^^^^^^^\n",
            "AssertionError: write() before start_response\n",
            "INFO:werkzeug:127.0.0.1 - - [10/Mar/2025 16:51:46] \"\u001b[35m\u001b[1mGET /socket.io/?EIO=4&transport=websocket HTTP/1.1\u001b[0m\" 500 -\n",
            "ERROR:werkzeug:Error on request:\n",
            "Traceback (most recent call last):\n",
            "  File \"/usr/local/lib/python3.11/dist-packages/werkzeug/serving.py\", line 370, in run_wsgi\n",
            "    execute(self.server.app)\n",
            "  File \"/usr/local/lib/python3.11/dist-packages/werkzeug/serving.py\", line 336, in execute\n",
            "    write(b\"\")\n",
            "  File \"/usr/local/lib/python3.11/dist-packages/werkzeug/serving.py\", line 261, in write\n",
            "    assert status_set is not None, \"write() before start_response\"\n",
            "           ^^^^^^^^^^^^^^^^^^^^^^^^^^^^^^^^^^^^^^^^^^^^^^^^^^^^^^^\n",
            "AssertionError: write() before start_response\n",
            "INFO:werkzeug:127.0.0.1 - - [10/Mar/2025 16:52:03] \"POST /message HTTP/1.1\" 200 -\n"
          ]
        },
        {
          "name": "stdout",
          "output_type": "stream",
          "text": [
            "Received message: {'in': ['schnitzels'], 'out': ['coke', 'milk', 'pittas']}\n"
          ]
        },
        {
          "name": "stderr",
          "output_type": "stream",
          "text": [
            "INFO:werkzeug:127.0.0.1 - - [10/Mar/2025 16:52:40] \"POST /message HTTP/1.1\" 200 -\n"
          ]
        },
        {
          "name": "stdout",
          "output_type": "stream",
          "text": [
            "Received message: {'in': [], 'out': []}\n"
          ]
        },
        {
          "name": "stderr",
          "output_type": "stream",
          "text": [
            "INFO:werkzeug:127.0.0.1 - - [10/Mar/2025 16:53:00] \"POST /message HTTP/1.1\" 200 -\n"
          ]
        },
        {
          "name": "stdout",
          "output_type": "stream",
          "text": [
            "Received message: {'in': [], 'out': []}\n"
          ]
        },
        {
          "name": "stderr",
          "output_type": "stream",
          "text": [
            "INFO:werkzeug:127.0.0.1 - - [10/Mar/2025 16:53:16] \"POST /message HTTP/1.1\" 200 -\n"
          ]
        },
        {
          "name": "stdout",
          "output_type": "stream",
          "text": [
            "Received message: {'in': [], 'out': []}\n"
          ]
        },
        {
          "name": "stderr",
          "output_type": "stream",
          "text": [
            "INFO:werkzeug:127.0.0.1 - - [10/Mar/2025 16:53:36] \"POST /message HTTP/1.1\" 200 -\n"
          ]
        },
        {
          "name": "stdout",
          "output_type": "stream",
          "text": [
            "Received message: {'in': [], 'out': []}\n"
          ]
        },
        {
          "name": "stderr",
          "output_type": "stream",
          "text": [
            "INFO:werkzeug:127.0.0.1 - - [10/Mar/2025 16:53:50] \"POST /message HTTP/1.1\" 200 -\n"
          ]
        },
        {
          "name": "stdout",
          "output_type": "stream",
          "text": [
            "Received message: {'in': [], 'out': []}\n"
          ]
        },
        {
          "name": "stderr",
          "output_type": "stream",
          "text": [
            "INFO:werkzeug:127.0.0.1 - - [10/Mar/2025 16:55:36] \"POST /message HTTP/1.1\" 200 -\n"
          ]
        },
        {
          "name": "stdout",
          "output_type": "stream",
          "text": [
            "Received message: {'in': ['milk'], 'out': ['coke']}\n"
          ]
        },
        {
          "name": "stderr",
          "output_type": "stream",
          "text": [
            "INFO:werkzeug:127.0.0.1 - - [10/Mar/2025 16:55:44] \"\u001b[35m\u001b[1mGET /socket.io/?EIO=4&transport=websocket HTTP/1.1\u001b[0m\" 500 -\n",
            "ERROR:werkzeug:Error on request:\n",
            "Traceback (most recent call last):\n",
            "  File \"/usr/local/lib/python3.11/dist-packages/werkzeug/serving.py\", line 370, in run_wsgi\n",
            "    execute(self.server.app)\n",
            "  File \"/usr/local/lib/python3.11/dist-packages/werkzeug/serving.py\", line 336, in execute\n",
            "    write(b\"\")\n",
            "  File \"/usr/local/lib/python3.11/dist-packages/werkzeug/serving.py\", line 261, in write\n",
            "    assert status_set is not None, \"write() before start_response\"\n",
            "           ^^^^^^^^^^^^^^^^^^^^^^^^^^^^^^^^^^^^^^^^^^^^^^^^^^^^^^^\n",
            "AssertionError: write() before start_response\n",
            "INFO:werkzeug:127.0.0.1 - - [10/Mar/2025 16:57:49] \"\u001b[35m\u001b[1mGET /socket.io/?EIO=4&transport=websocket HTTP/1.1\u001b[0m\" 500 -\n",
            "ERROR:werkzeug:Error on request:\n",
            "Traceback (most recent call last):\n",
            "  File \"/usr/local/lib/python3.11/dist-packages/werkzeug/serving.py\", line 370, in run_wsgi\n",
            "    execute(self.server.app)\n",
            "  File \"/usr/local/lib/python3.11/dist-packages/werkzeug/serving.py\", line 336, in execute\n",
            "    write(b\"\")\n",
            "  File \"/usr/local/lib/python3.11/dist-packages/werkzeug/serving.py\", line 261, in write\n",
            "    assert status_set is not None, \"write() before start_response\"\n",
            "           ^^^^^^^^^^^^^^^^^^^^^^^^^^^^^^^^^^^^^^^^^^^^^^^^^^^^^^^\n",
            "AssertionError: write() before start_response\n",
            "INFO:werkzeug:127.0.0.1 - - [10/Mar/2025 16:58:08] \"\u001b[35m\u001b[1mGET /socket.io/?EIO=4&transport=websocket HTTP/1.1\u001b[0m\" 500 -\n",
            "ERROR:werkzeug:Error on request:\n",
            "Traceback (most recent call last):\n",
            "  File \"/usr/local/lib/python3.11/dist-packages/werkzeug/serving.py\", line 370, in run_wsgi\n",
            "    execute(self.server.app)\n",
            "  File \"/usr/local/lib/python3.11/dist-packages/werkzeug/serving.py\", line 336, in execute\n",
            "    write(b\"\")\n",
            "  File \"/usr/local/lib/python3.11/dist-packages/werkzeug/serving.py\", line 261, in write\n",
            "    assert status_set is not None, \"write() before start_response\"\n",
            "           ^^^^^^^^^^^^^^^^^^^^^^^^^^^^^^^^^^^^^^^^^^^^^^^^^^^^^^^\n",
            "AssertionError: write() before start_response\n",
            "INFO:werkzeug:127.0.0.1 - - [10/Mar/2025 16:58:56] \"POST /message HTTP/1.1\" 200 -\n"
          ]
        },
        {
          "name": "stdout",
          "output_type": "stream",
          "text": [
            "Received message: {'in': [], 'out': []}\n"
          ]
        },
        {
          "name": "stderr",
          "output_type": "stream",
          "text": [
            "INFO:werkzeug:127.0.0.1 - - [10/Mar/2025 16:59:01] \"POST /message HTTP/1.1\" 200 -\n"
          ]
        },
        {
          "name": "stdout",
          "output_type": "stream",
          "text": [
            "Received message: {'in': [], 'out': ['coke']}\n"
          ]
        },
        {
          "name": "stderr",
          "output_type": "stream",
          "text": [
            "INFO:werkzeug:127.0.0.1 - - [10/Mar/2025 16:59:05] \"POST /message HTTP/1.1\" 200 -\n"
          ]
        },
        {
          "name": "stdout",
          "output_type": "stream",
          "text": [
            "Received message: {'in': [], 'out': []}\n"
          ]
        },
        {
          "name": "stderr",
          "output_type": "stream",
          "text": [
            "INFO:werkzeug:127.0.0.1 - - [10/Mar/2025 16:59:09] \"POST /message HTTP/1.1\" 200 -\n"
          ]
        },
        {
          "name": "stdout",
          "output_type": "stream",
          "text": [
            "Received message: {'in': [], 'out': []}\n"
          ]
        },
        {
          "name": "stderr",
          "output_type": "stream",
          "text": [
            "INFO:werkzeug:127.0.0.1 - - [10/Mar/2025 16:59:13] \"POST /message HTTP/1.1\" 200 -\n"
          ]
        },
        {
          "name": "stdout",
          "output_type": "stream",
          "text": [
            "Received message: {'in': ['milk'], 'out': []}\n"
          ]
        },
        {
          "name": "stderr",
          "output_type": "stream",
          "text": [
            "INFO:werkzeug:127.0.0.1 - - [10/Mar/2025 16:59:17] \"POST /message HTTP/1.1\" 200 -\n"
          ]
        },
        {
          "name": "stdout",
          "output_type": "stream",
          "text": [
            "Received message: {'in': [], 'out': []}\n"
          ]
        },
        {
          "name": "stderr",
          "output_type": "stream",
          "text": [
            "INFO:werkzeug:127.0.0.1 - - [10/Mar/2025 16:59:21] \"POST /message HTTP/1.1\" 200 -\n"
          ]
        },
        {
          "name": "stdout",
          "output_type": "stream",
          "text": [
            "Received message: {'in': ['milk'], 'out': []}\n"
          ]
        },
        {
          "name": "stderr",
          "output_type": "stream",
          "text": [
            "INFO:werkzeug:127.0.0.1 - - [10/Mar/2025 16:59:25] \"POST /message HTTP/1.1\" 200 -\n"
          ]
        },
        {
          "name": "stdout",
          "output_type": "stream",
          "text": [
            "Received message: {'in': [], 'out': []}\n"
          ]
        },
        {
          "name": "stderr",
          "output_type": "stream",
          "text": [
            "INFO:werkzeug:127.0.0.1 - - [10/Mar/2025 16:59:28] \"POST /message HTTP/1.1\" 200 -\n"
          ]
        },
        {
          "name": "stdout",
          "output_type": "stream",
          "text": [
            "Received message: {'in': ['milk'], 'out': []}\n"
          ]
        },
        {
          "name": "stderr",
          "output_type": "stream",
          "text": [
            "INFO:werkzeug:127.0.0.1 - - [10/Mar/2025 16:59:32] \"POST /message HTTP/1.1\" 200 -\n"
          ]
        },
        {
          "name": "stdout",
          "output_type": "stream",
          "text": [
            "Received message: {'in': [], 'out': ['coke']}\n"
          ]
        },
        {
          "name": "stderr",
          "output_type": "stream",
          "text": [
            "INFO:werkzeug:127.0.0.1 - - [10/Mar/2025 16:59:44] \"POST /message HTTP/1.1\" 200 -\n"
          ]
        },
        {
          "name": "stdout",
          "output_type": "stream",
          "text": [
            "Received message: {'in': [], 'out': []}\n"
          ]
        },
        {
          "name": "stderr",
          "output_type": "stream",
          "text": [
            "INFO:werkzeug:127.0.0.1 - - [10/Mar/2025 16:59:49] \"POST /message HTTP/1.1\" 200 -\n"
          ]
        },
        {
          "name": "stdout",
          "output_type": "stream",
          "text": [
            "Received message: {'in': [], 'out': []}\n"
          ]
        },
        {
          "name": "stderr",
          "output_type": "stream",
          "text": [
            "INFO:werkzeug:127.0.0.1 - - [10/Mar/2025 16:59:52] \"POST /message HTTP/1.1\" 200 -\n"
          ]
        },
        {
          "name": "stdout",
          "output_type": "stream",
          "text": [
            "Received message: {'in': [], 'out': []}\n"
          ]
        },
        {
          "name": "stderr",
          "output_type": "stream",
          "text": [
            "INFO:werkzeug:127.0.0.1 - - [10/Mar/2025 16:59:56] \"POST /message HTTP/1.1\" 200 -\n"
          ]
        },
        {
          "name": "stdout",
          "output_type": "stream",
          "text": [
            "Received message: {'in': [], 'out': ['coke']}\n"
          ]
        },
        {
          "name": "stderr",
          "output_type": "stream",
          "text": [
            "INFO:werkzeug:127.0.0.1 - - [10/Mar/2025 17:00:01] \"POST /message HTTP/1.1\" 200 -\n"
          ]
        },
        {
          "name": "stdout",
          "output_type": "stream",
          "text": [
            "Received message: {'in': [], 'out': []}\n"
          ]
        },
        {
          "name": "stderr",
          "output_type": "stream",
          "text": [
            "INFO:werkzeug:127.0.0.1 - - [10/Mar/2025 17:00:08] \"POST /message HTTP/1.1\" 200 -\n"
          ]
        },
        {
          "name": "stdout",
          "output_type": "stream",
          "text": [
            "Received message: {'in': [], 'out': ['coke']}\n"
          ]
        },
        {
          "name": "stderr",
          "output_type": "stream",
          "text": [
            "INFO:werkzeug:127.0.0.1 - - [10/Mar/2025 17:00:12] \"\u001b[35m\u001b[1mGET /socket.io/?EIO=4&transport=websocket HTTP/1.1\u001b[0m\" 500 -\n",
            "ERROR:werkzeug:Error on request:\n",
            "Traceback (most recent call last):\n",
            "  File \"/usr/local/lib/python3.11/dist-packages/werkzeug/serving.py\", line 370, in run_wsgi\n",
            "    execute(self.server.app)\n",
            "  File \"/usr/local/lib/python3.11/dist-packages/werkzeug/serving.py\", line 336, in execute\n",
            "    write(b\"\")\n",
            "  File \"/usr/local/lib/python3.11/dist-packages/werkzeug/serving.py\", line 261, in write\n",
            "    assert status_set is not None, \"write() before start_response\"\n",
            "           ^^^^^^^^^^^^^^^^^^^^^^^^^^^^^^^^^^^^^^^^^^^^^^^^^^^^^^^\n",
            "AssertionError: write() before start_response\n",
            "INFO:werkzeug:127.0.0.1 - - [10/Mar/2025 17:00:13] \"POST /message HTTP/1.1\" 200 -\n"
          ]
        },
        {
          "name": "stdout",
          "output_type": "stream",
          "text": [
            "Received message: {'in': ['coke'], 'out': []}\n"
          ]
        },
        {
          "name": "stderr",
          "output_type": "stream",
          "text": [
            "INFO:werkzeug:127.0.0.1 - - [10/Mar/2025 17:00:17] \"POST /message HTTP/1.1\" 200 -\n"
          ]
        },
        {
          "name": "stdout",
          "output_type": "stream",
          "text": [
            "Received message: {'in': [], 'out': []}\n"
          ]
        },
        {
          "name": "stderr",
          "output_type": "stream",
          "text": [
            "INFO:werkzeug:127.0.0.1 - - [10/Mar/2025 17:00:22] \"POST /message HTTP/1.1\" 200 -\n"
          ]
        },
        {
          "name": "stdout",
          "output_type": "stream",
          "text": [
            "Received message: {'in': [], 'out': []}\n"
          ]
        },
        {
          "name": "stderr",
          "output_type": "stream",
          "text": [
            "INFO:werkzeug:127.0.0.1 - - [10/Mar/2025 17:00:25] \"POST /message HTTP/1.1\" 200 -\n"
          ]
        },
        {
          "name": "stdout",
          "output_type": "stream",
          "text": [
            "Received message: {'in': [], 'out': []}\n"
          ]
        },
        {
          "name": "stderr",
          "output_type": "stream",
          "text": [
            "INFO:werkzeug:127.0.0.1 - - [10/Mar/2025 17:00:27] \"\u001b[35m\u001b[1mGET /socket.io/?EIO=4&transport=websocket HTTP/1.1\u001b[0m\" 500 -\n",
            "ERROR:werkzeug:Error on request:\n",
            "Traceback (most recent call last):\n",
            "  File \"/usr/local/lib/python3.11/dist-packages/werkzeug/serving.py\", line 370, in run_wsgi\n",
            "    execute(self.server.app)\n",
            "  File \"/usr/local/lib/python3.11/dist-packages/werkzeug/serving.py\", line 336, in execute\n",
            "    write(b\"\")\n",
            "  File \"/usr/local/lib/python3.11/dist-packages/werkzeug/serving.py\", line 261, in write\n",
            "    assert status_set is not None, \"write() before start_response\"\n",
            "           ^^^^^^^^^^^^^^^^^^^^^^^^^^^^^^^^^^^^^^^^^^^^^^^^^^^^^^^\n",
            "AssertionError: write() before start_response\n",
            "INFO:werkzeug:127.0.0.1 - - [10/Mar/2025 17:00:29] \"POST /message HTTP/1.1\" 200 -\n"
          ]
        },
        {
          "name": "stdout",
          "output_type": "stream",
          "text": [
            "Received message: {'in': [], 'out': []}\n"
          ]
        },
        {
          "name": "stderr",
          "output_type": "stream",
          "text": [
            "INFO:werkzeug:127.0.0.1 - - [10/Mar/2025 17:00:33] \"POST /message HTTP/1.1\" 200 -\n"
          ]
        },
        {
          "name": "stdout",
          "output_type": "stream",
          "text": [
            "Received message: {'in': [], 'out': []}\n"
          ]
        },
        {
          "name": "stderr",
          "output_type": "stream",
          "text": [
            "INFO:werkzeug:127.0.0.1 - - [10/Mar/2025 17:00:50] \"POST /message HTTP/1.1\" 200 -\n"
          ]
        },
        {
          "name": "stdout",
          "output_type": "stream",
          "text": [
            "Received message: {'in': [], 'out': []}\n"
          ]
        },
        {
          "name": "stderr",
          "output_type": "stream",
          "text": [
            "INFO:werkzeug:127.0.0.1 - - [10/Mar/2025 17:00:58] \"POST /message HTTP/1.1\" 200 -\n"
          ]
        },
        {
          "name": "stdout",
          "output_type": "stream",
          "text": [
            "Received message: {'in': [], 'out': []}\n"
          ]
        },
        {
          "name": "stderr",
          "output_type": "stream",
          "text": [
            "INFO:werkzeug:127.0.0.1 - - [10/Mar/2025 17:01:02] \"POST /message HTTP/1.1\" 200 -\n"
          ]
        },
        {
          "name": "stdout",
          "output_type": "stream",
          "text": [
            "Received message: {'in': [], 'out': []}\n"
          ]
        },
        {
          "name": "stderr",
          "output_type": "stream",
          "text": [
            "INFO:werkzeug:127.0.0.1 - - [10/Mar/2025 17:01:06] \"POST /message HTTP/1.1\" 200 -\n"
          ]
        },
        {
          "name": "stdout",
          "output_type": "stream",
          "text": [
            "Received message: {'in': [], 'out': []}\n"
          ]
        },
        {
          "name": "stderr",
          "output_type": "stream",
          "text": [
            "INFO:werkzeug:127.0.0.1 - - [10/Mar/2025 17:01:10] \"POST /message HTTP/1.1\" 200 -\n"
          ]
        },
        {
          "name": "stdout",
          "output_type": "stream",
          "text": [
            "Received message: {'in': [], 'out': []}\n"
          ]
        },
        {
          "name": "stderr",
          "output_type": "stream",
          "text": [
            "INFO:werkzeug:127.0.0.1 - - [10/Mar/2025 17:01:26] \"POST /message HTTP/1.1\" 200 -\n"
          ]
        },
        {
          "name": "stdout",
          "output_type": "stream",
          "text": [
            "Received message: {'in': [], 'out': []}\n"
          ]
        },
        {
          "name": "stderr",
          "output_type": "stream",
          "text": [
            "INFO:werkzeug:127.0.0.1 - - [10/Mar/2025 17:01:30] \"\u001b[35m\u001b[1mGET /socket.io/?EIO=4&transport=websocket HTTP/1.1\u001b[0m\" 500 -\n",
            "ERROR:werkzeug:Error on request:\n",
            "Traceback (most recent call last):\n",
            "  File \"/usr/local/lib/python3.11/dist-packages/werkzeug/serving.py\", line 370, in run_wsgi\n",
            "    execute(self.server.app)\n",
            "  File \"/usr/local/lib/python3.11/dist-packages/werkzeug/serving.py\", line 336, in execute\n",
            "    write(b\"\")\n",
            "  File \"/usr/local/lib/python3.11/dist-packages/werkzeug/serving.py\", line 261, in write\n",
            "    assert status_set is not None, \"write() before start_response\"\n",
            "           ^^^^^^^^^^^^^^^^^^^^^^^^^^^^^^^^^^^^^^^^^^^^^^^^^^^^^^^\n",
            "AssertionError: write() before start_response\n",
            "INFO:werkzeug:127.0.0.1 - - [10/Mar/2025 17:01:44] \"POST /message HTTP/1.1\" 200 -\n"
          ]
        },
        {
          "name": "stdout",
          "output_type": "stream",
          "text": [
            "Received message: {'in': [], 'out': []}\n"
          ]
        },
        {
          "name": "stderr",
          "output_type": "stream",
          "text": [
            "INFO:werkzeug:127.0.0.1 - - [10/Mar/2025 17:01:48] \"POST /message HTTP/1.1\" 200 -\n"
          ]
        },
        {
          "name": "stdout",
          "output_type": "stream",
          "text": [
            "Received message: {'in': [], 'out': []}\n"
          ]
        },
        {
          "name": "stderr",
          "output_type": "stream",
          "text": [
            "INFO:werkzeug:127.0.0.1 - - [10/Mar/2025 17:02:00] \"\u001b[35m\u001b[1mGET /socket.io/?EIO=4&transport=websocket HTTP/1.1\u001b[0m\" 500 -\n",
            "ERROR:werkzeug:Error on request:\n",
            "Traceback (most recent call last):\n",
            "  File \"/usr/local/lib/python3.11/dist-packages/werkzeug/serving.py\", line 370, in run_wsgi\n",
            "    execute(self.server.app)\n",
            "  File \"/usr/local/lib/python3.11/dist-packages/werkzeug/serving.py\", line 336, in execute\n",
            "    write(b\"\")\n",
            "  File \"/usr/local/lib/python3.11/dist-packages/werkzeug/serving.py\", line 261, in write\n",
            "    assert status_set is not None, \"write() before start_response\"\n",
            "           ^^^^^^^^^^^^^^^^^^^^^^^^^^^^^^^^^^^^^^^^^^^^^^^^^^^^^^^\n",
            "AssertionError: write() before start_response\n",
            "INFO:werkzeug:127.0.0.1 - - [10/Mar/2025 17:02:35] \"\u001b[35m\u001b[1mGET /socket.io/?EIO=4&transport=websocket HTTP/1.1\u001b[0m\" 500 -\n",
            "ERROR:werkzeug:Error on request:\n",
            "Traceback (most recent call last):\n",
            "  File \"/usr/local/lib/python3.11/dist-packages/werkzeug/serving.py\", line 370, in run_wsgi\n",
            "    execute(self.server.app)\n",
            "  File \"/usr/local/lib/python3.11/dist-packages/werkzeug/serving.py\", line 336, in execute\n",
            "    write(b\"\")\n",
            "  File \"/usr/local/lib/python3.11/dist-packages/werkzeug/serving.py\", line 261, in write\n",
            "    assert status_set is not None, \"write() before start_response\"\n",
            "           ^^^^^^^^^^^^^^^^^^^^^^^^^^^^^^^^^^^^^^^^^^^^^^^^^^^^^^^\n",
            "AssertionError: write() before start_response\n",
            "INFO:werkzeug:127.0.0.1 - - [10/Mar/2025 17:03:57] \"POST /message HTTP/1.1\" 200 -\n"
          ]
        },
        {
          "name": "stdout",
          "output_type": "stream",
          "text": [
            "Received message: {'in': [], 'out': []}\n"
          ]
        },
        {
          "name": "stderr",
          "output_type": "stream",
          "text": [
            "INFO:werkzeug:127.0.0.1 - - [10/Mar/2025 17:04:01] \"POST /message HTTP/1.1\" 200 -\n"
          ]
        },
        {
          "name": "stdout",
          "output_type": "stream",
          "text": [
            "Received message: {'in': ['milk'], 'out': []}\n"
          ]
        },
        {
          "name": "stderr",
          "output_type": "stream",
          "text": [
            "INFO:werkzeug:127.0.0.1 - - [10/Mar/2025 17:04:05] \"POST /message HTTP/1.1\" 200 -\n"
          ]
        },
        {
          "name": "stdout",
          "output_type": "stream",
          "text": [
            "Received message: {'in': [], 'out': []}\n"
          ]
        },
        {
          "name": "stderr",
          "output_type": "stream",
          "text": [
            "INFO:werkzeug:127.0.0.1 - - [10/Mar/2025 17:04:09] \"POST /message HTTP/1.1\" 200 -\n"
          ]
        },
        {
          "name": "stdout",
          "output_type": "stream",
          "text": [
            "Received message: {'in': [], 'out': []}\n"
          ]
        },
        {
          "name": "stderr",
          "output_type": "stream",
          "text": [
            "INFO:werkzeug:127.0.0.1 - - [10/Mar/2025 17:04:15] \"POST /message HTTP/1.1\" 200 -\n"
          ]
        },
        {
          "name": "stdout",
          "output_type": "stream",
          "text": [
            "Received message: {'in': ['milk'], 'out': []}\n"
          ]
        },
        {
          "name": "stderr",
          "output_type": "stream",
          "text": [
            "INFO:werkzeug:127.0.0.1 - - [10/Mar/2025 17:04:19] \"POST /message HTTP/1.1\" 200 -\n"
          ]
        },
        {
          "name": "stdout",
          "output_type": "stream",
          "text": [
            "Received message: {'in': [], 'out': ['pittas']}\n"
          ]
        },
        {
          "name": "stderr",
          "output_type": "stream",
          "text": [
            "INFO:werkzeug:127.0.0.1 - - [10/Mar/2025 17:04:22] \"POST /message HTTP/1.1\" 200 -\n"
          ]
        },
        {
          "name": "stdout",
          "output_type": "stream",
          "text": [
            "Received message: {'in': [], 'out': ['milk']}\n"
          ]
        },
        {
          "name": "stderr",
          "output_type": "stream",
          "text": [
            "INFO:werkzeug:127.0.0.1 - - [10/Mar/2025 17:04:27] \"POST /message HTTP/1.1\" 200 -\n"
          ]
        },
        {
          "name": "stdout",
          "output_type": "stream",
          "text": [
            "Received message: {'in': [], 'out': []}\n"
          ]
        },
        {
          "name": "stderr",
          "output_type": "stream",
          "text": [
            "INFO:werkzeug:127.0.0.1 - - [10/Mar/2025 17:04:32] \"POST /message HTTP/1.1\" 200 -\n"
          ]
        },
        {
          "name": "stdout",
          "output_type": "stream",
          "text": [
            "Received message: {'in': [], 'out': []}\n"
          ]
        },
        {
          "name": "stderr",
          "output_type": "stream",
          "text": [
            "INFO:werkzeug:127.0.0.1 - - [10/Mar/2025 17:04:36] \"POST /message HTTP/1.1\" 200 -\n"
          ]
        },
        {
          "name": "stdout",
          "output_type": "stream",
          "text": [
            "Received message: {'in': [], 'out': []}\n"
          ]
        },
        {
          "name": "stderr",
          "output_type": "stream",
          "text": [
            "INFO:werkzeug:127.0.0.1 - - [10/Mar/2025 17:04:41] \"POST /message HTTP/1.1\" 200 -\n"
          ]
        },
        {
          "name": "stdout",
          "output_type": "stream",
          "text": [
            "Received message: {'in': [], 'out': []}\n"
          ]
        },
        {
          "name": "stderr",
          "output_type": "stream",
          "text": [
            "INFO:werkzeug:127.0.0.1 - - [10/Mar/2025 17:04:47] \"POST /message HTTP/1.1\" 200 -\n"
          ]
        },
        {
          "name": "stdout",
          "output_type": "stream",
          "text": [
            "Received message: {'in': [], 'out': []}\n"
          ]
        },
        {
          "name": "stderr",
          "output_type": "stream",
          "text": [
            "INFO:werkzeug:127.0.0.1 - - [10/Mar/2025 17:04:59] \"POST /message HTTP/1.1\" 200 -\n"
          ]
        },
        {
          "name": "stdout",
          "output_type": "stream",
          "text": [
            "Received message: {'in': [], 'out': []}\n"
          ]
        },
        {
          "name": "stderr",
          "output_type": "stream",
          "text": [
            "INFO:werkzeug:127.0.0.1 - - [10/Mar/2025 17:05:02] \"\u001b[35m\u001b[1mGET /socket.io/?EIO=4&transport=websocket HTTP/1.1\u001b[0m\" 500 -\n",
            "ERROR:werkzeug:Error on request:\n",
            "Traceback (most recent call last):\n",
            "  File \"/usr/local/lib/python3.11/dist-packages/werkzeug/serving.py\", line 370, in run_wsgi\n",
            "    execute(self.server.app)\n",
            "  File \"/usr/local/lib/python3.11/dist-packages/werkzeug/serving.py\", line 336, in execute\n",
            "    write(b\"\")\n",
            "  File \"/usr/local/lib/python3.11/dist-packages/werkzeug/serving.py\", line 261, in write\n",
            "    assert status_set is not None, \"write() before start_response\"\n",
            "           ^^^^^^^^^^^^^^^^^^^^^^^^^^^^^^^^^^^^^^^^^^^^^^^^^^^^^^^\n",
            "AssertionError: write() before start_response\n",
            "INFO:werkzeug:127.0.0.1 - - [10/Mar/2025 17:05:07] \"POST /message HTTP/1.1\" 200 -\n"
          ]
        },
        {
          "name": "stdout",
          "output_type": "stream",
          "text": [
            "Received message: {'in': [], 'out': []}\n"
          ]
        },
        {
          "name": "stderr",
          "output_type": "stream",
          "text": [
            "INFO:werkzeug:127.0.0.1 - - [10/Mar/2025 17:05:21] \"POST /message HTTP/1.1\" 200 -\n"
          ]
        },
        {
          "name": "stdout",
          "output_type": "stream",
          "text": [
            "Received message: {'in': [], 'out': []}\n"
          ]
        },
        {
          "name": "stderr",
          "output_type": "stream",
          "text": [
            "INFO:werkzeug:127.0.0.1 - - [10/Mar/2025 17:05:25] \"POST /message HTTP/1.1\" 200 -\n"
          ]
        },
        {
          "name": "stdout",
          "output_type": "stream",
          "text": [
            "Received message: {'in': [], 'out': []}\n"
          ]
        },
        {
          "name": "stderr",
          "output_type": "stream",
          "text": [
            "INFO:werkzeug:127.0.0.1 - - [10/Mar/2025 17:05:28] \"POST /message HTTP/1.1\" 200 -\n"
          ]
        },
        {
          "name": "stdout",
          "output_type": "stream",
          "text": [
            "Received message: {'in': [], 'out': []}\n"
          ]
        },
        {
          "name": "stderr",
          "output_type": "stream",
          "text": [
            "INFO:werkzeug:127.0.0.1 - - [10/Mar/2025 17:05:32] \"POST /message HTTP/1.1\" 200 -\n"
          ]
        },
        {
          "name": "stdout",
          "output_type": "stream",
          "text": [
            "Received message: {'in': [], 'out': []}\n"
          ]
        },
        {
          "name": "stderr",
          "output_type": "stream",
          "text": [
            "INFO:werkzeug:127.0.0.1 - - [10/Mar/2025 17:05:36] \"\u001b[35m\u001b[1mGET /socket.io/?EIO=4&transport=websocket HTTP/1.1\u001b[0m\" 500 -\n",
            "ERROR:werkzeug:Error on request:\n",
            "Traceback (most recent call last):\n",
            "  File \"/usr/local/lib/python3.11/dist-packages/werkzeug/serving.py\", line 370, in run_wsgi\n",
            "    execute(self.server.app)\n",
            "  File \"/usr/local/lib/python3.11/dist-packages/werkzeug/serving.py\", line 336, in execute\n",
            "    write(b\"\")\n",
            "  File \"/usr/local/lib/python3.11/dist-packages/werkzeug/serving.py\", line 261, in write\n",
            "    assert status_set is not None, \"write() before start_response\"\n",
            "           ^^^^^^^^^^^^^^^^^^^^^^^^^^^^^^^^^^^^^^^^^^^^^^^^^^^^^^^\n",
            "AssertionError: write() before start_response\n",
            "INFO:werkzeug:127.0.0.1 - - [10/Mar/2025 17:05:37] \"POST /message HTTP/1.1\" 200 -\n"
          ]
        },
        {
          "name": "stdout",
          "output_type": "stream",
          "text": [
            "Received message: {'in': [], 'out': []}\n"
          ]
        },
        {
          "name": "stderr",
          "output_type": "stream",
          "text": [
            "INFO:werkzeug:127.0.0.1 - - [10/Mar/2025 17:05:42] \"POST /message HTTP/1.1\" 200 -\n"
          ]
        },
        {
          "name": "stdout",
          "output_type": "stream",
          "text": [
            "Received message: {'in': [], 'out': []}\n"
          ]
        },
        {
          "name": "stderr",
          "output_type": "stream",
          "text": [
            "INFO:werkzeug:127.0.0.1 - - [10/Mar/2025 17:06:10] \"POST /message HTTP/1.1\" 200 -\n"
          ]
        },
        {
          "name": "stdout",
          "output_type": "stream",
          "text": [
            "Received message: {'in': [], 'out': []}\n"
          ]
        },
        {
          "name": "stderr",
          "output_type": "stream",
          "text": [
            "INFO:werkzeug:127.0.0.1 - - [10/Mar/2025 17:06:14] \"POST /message HTTP/1.1\" 200 -\n"
          ]
        },
        {
          "name": "stdout",
          "output_type": "stream",
          "text": [
            "Received message: {'in': [], 'out': []}\n"
          ]
        },
        {
          "name": "stderr",
          "output_type": "stream",
          "text": [
            "INFO:werkzeug:127.0.0.1 - - [10/Mar/2025 17:06:19] \"POST /message HTTP/1.1\" 200 -\n"
          ]
        },
        {
          "name": "stdout",
          "output_type": "stream",
          "text": [
            "Received message: {'in': [], 'out': ['coke']}\n"
          ]
        },
        {
          "name": "stderr",
          "output_type": "stream",
          "text": [
            "INFO:werkzeug:127.0.0.1 - - [10/Mar/2025 17:06:24] \"POST /message HTTP/1.1\" 200 -\n"
          ]
        },
        {
          "name": "stdout",
          "output_type": "stream",
          "text": [
            "Received message: {'in': [], 'out': []}\n"
          ]
        },
        {
          "name": "stderr",
          "output_type": "stream",
          "text": [
            "INFO:werkzeug:127.0.0.1 - - [10/Mar/2025 17:06:35] \"POST /message HTTP/1.1\" 200 -\n"
          ]
        },
        {
          "name": "stdout",
          "output_type": "stream",
          "text": [
            "Received message: {'in': [], 'out': ['coke']}\n"
          ]
        },
        {
          "name": "stderr",
          "output_type": "stream",
          "text": [
            "INFO:werkzeug:127.0.0.1 - - [10/Mar/2025 17:06:39] \"POST /message HTTP/1.1\" 200 -\n"
          ]
        },
        {
          "name": "stdout",
          "output_type": "stream",
          "text": [
            "Received message: {'in': ['milk'], 'out': []}\n"
          ]
        },
        {
          "name": "stderr",
          "output_type": "stream",
          "text": [
            "INFO:werkzeug:127.0.0.1 - - [10/Mar/2025 17:06:44] \"POST /message HTTP/1.1\" 200 -\n"
          ]
        },
        {
          "name": "stdout",
          "output_type": "stream",
          "text": [
            "Received message: {'in': [], 'out': ['milk']}\n"
          ]
        },
        {
          "name": "stderr",
          "output_type": "stream",
          "text": [
            "INFO:werkzeug:127.0.0.1 - - [10/Mar/2025 17:06:49] \"POST /message HTTP/1.1\" 200 -\n"
          ]
        },
        {
          "name": "stdout",
          "output_type": "stream",
          "text": [
            "Received message: {'in': [], 'out': []}\n"
          ]
        },
        {
          "name": "stderr",
          "output_type": "stream",
          "text": [
            "INFO:werkzeug:127.0.0.1 - - [10/Mar/2025 17:06:53] \"POST /message HTTP/1.1\" 200 -\n"
          ]
        },
        {
          "name": "stdout",
          "output_type": "stream",
          "text": [
            "Received message: {'in': ['milk'], 'out': []}\n"
          ]
        },
        {
          "name": "stderr",
          "output_type": "stream",
          "text": [
            "INFO:werkzeug:127.0.0.1 - - [10/Mar/2025 17:06:57] \"POST /message HTTP/1.1\" 200 -\n"
          ]
        },
        {
          "name": "stdout",
          "output_type": "stream",
          "text": [
            "Received message: {'in': ['milk'], 'out': []}\n"
          ]
        },
        {
          "name": "stderr",
          "output_type": "stream",
          "text": [
            "INFO:werkzeug:127.0.0.1 - - [10/Mar/2025 17:07:01] \"POST /message HTTP/1.1\" 200 -\n"
          ]
        },
        {
          "name": "stdout",
          "output_type": "stream",
          "text": [
            "Received message: {'in': [], 'out': ['milk']}\n"
          ]
        },
        {
          "name": "stderr",
          "output_type": "stream",
          "text": [
            "INFO:werkzeug:127.0.0.1 - - [10/Mar/2025 17:07:07] \"POST /message HTTP/1.1\" 200 -\n"
          ]
        },
        {
          "name": "stdout",
          "output_type": "stream",
          "text": [
            "Received message: {'in': [], 'out': []}\n"
          ]
        },
        {
          "name": "stderr",
          "output_type": "stream",
          "text": [
            "INFO:werkzeug:127.0.0.1 - - [10/Mar/2025 17:07:11] \"POST /message HTTP/1.1\" 200 -\n"
          ]
        },
        {
          "name": "stdout",
          "output_type": "stream",
          "text": [
            "Received message: {'in': ['milk'], 'out': []}\n"
          ]
        },
        {
          "name": "stderr",
          "output_type": "stream",
          "text": [
            "INFO:werkzeug:127.0.0.1 - - [10/Mar/2025 17:07:15] \"POST /message HTTP/1.1\" 200 -\n"
          ]
        },
        {
          "name": "stdout",
          "output_type": "stream",
          "text": [
            "Received message: {'in': ['milk'], 'out': []}\n"
          ]
        },
        {
          "name": "stderr",
          "output_type": "stream",
          "text": [
            "INFO:werkzeug:127.0.0.1 - - [10/Mar/2025 17:07:20] \"POST /message HTTP/1.1\" 200 -\n"
          ]
        },
        {
          "name": "stdout",
          "output_type": "stream",
          "text": [
            "Received message: {'in': [], 'out': []}\n"
          ]
        },
        {
          "name": "stderr",
          "output_type": "stream",
          "text": [
            "INFO:werkzeug:127.0.0.1 - - [10/Mar/2025 17:07:27] \"POST /message HTTP/1.1\" 200 -\n"
          ]
        },
        {
          "name": "stdout",
          "output_type": "stream",
          "text": [
            "Received message: {'in': [], 'out': []}\n"
          ]
        },
        {
          "name": "stderr",
          "output_type": "stream",
          "text": [
            "INFO:werkzeug:127.0.0.1 - - [10/Mar/2025 17:07:31] \"POST /message HTTP/1.1\" 200 -\n"
          ]
        },
        {
          "name": "stdout",
          "output_type": "stream",
          "text": [
            "Received message: {'in': [], 'out': []}\n"
          ]
        },
        {
          "name": "stderr",
          "output_type": "stream",
          "text": [
            "INFO:werkzeug:127.0.0.1 - - [10/Mar/2025 17:07:40] \"POST /message HTTP/1.1\" 200 -\n"
          ]
        },
        {
          "name": "stdout",
          "output_type": "stream",
          "text": [
            "Received message: {'in': [], 'out': []}\n"
          ]
        },
        {
          "name": "stderr",
          "output_type": "stream",
          "text": [
            "INFO:werkzeug:127.0.0.1 - - [10/Mar/2025 17:08:03] \"POST /message HTTP/1.1\" 200 -\n"
          ]
        },
        {
          "name": "stdout",
          "output_type": "stream",
          "text": [
            "Received message: {'in': [], 'out': []}\n"
          ]
        },
        {
          "name": "stderr",
          "output_type": "stream",
          "text": [
            "INFO:werkzeug:127.0.0.1 - - [10/Mar/2025 17:08:07] \"POST /message HTTP/1.1\" 200 -\n"
          ]
        },
        {
          "name": "stdout",
          "output_type": "stream",
          "text": [
            "Received message: {'in': [], 'out': []}\n"
          ]
        },
        {
          "name": "stderr",
          "output_type": "stream",
          "text": [
            "INFO:werkzeug:127.0.0.1 - - [10/Mar/2025 17:08:13] \"POST /message HTTP/1.1\" 200 -\n"
          ]
        },
        {
          "name": "stdout",
          "output_type": "stream",
          "text": [
            "Received message: {'in': [], 'out': []}\n"
          ]
        },
        {
          "name": "stderr",
          "output_type": "stream",
          "text": [
            "INFO:werkzeug:127.0.0.1 - - [10/Mar/2025 17:08:21] \"POST /message HTTP/1.1\" 200 -\n"
          ]
        },
        {
          "name": "stdout",
          "output_type": "stream",
          "text": [
            "Received message: {'in': [], 'out': []}\n"
          ]
        },
        {
          "name": "stderr",
          "output_type": "stream",
          "text": [
            "INFO:werkzeug:127.0.0.1 - - [10/Mar/2025 17:08:28] \"POST /message HTTP/1.1\" 200 -\n"
          ]
        },
        {
          "name": "stdout",
          "output_type": "stream",
          "text": [
            "Received message: {'in': [], 'out': []}\n"
          ]
        },
        {
          "name": "stderr",
          "output_type": "stream",
          "text": [
            "INFO:werkzeug:127.0.0.1 - - [10/Mar/2025 17:08:31] \"\u001b[35m\u001b[1mGET /socket.io/?EIO=4&transport=websocket HTTP/1.1\u001b[0m\" 500 -\n",
            "ERROR:werkzeug:Error on request:\n",
            "Traceback (most recent call last):\n",
            "  File \"/usr/local/lib/python3.11/dist-packages/werkzeug/serving.py\", line 370, in run_wsgi\n",
            "    execute(self.server.app)\n",
            "  File \"/usr/local/lib/python3.11/dist-packages/werkzeug/serving.py\", line 336, in execute\n",
            "    write(b\"\")\n",
            "  File \"/usr/local/lib/python3.11/dist-packages/werkzeug/serving.py\", line 261, in write\n",
            "    assert status_set is not None, \"write() before start_response\"\n",
            "           ^^^^^^^^^^^^^^^^^^^^^^^^^^^^^^^^^^^^^^^^^^^^^^^^^^^^^^^\n",
            "AssertionError: write() before start_response\n",
            "INFO:werkzeug:127.0.0.1 - - [10/Mar/2025 17:08:33] \"POST /message HTTP/1.1\" 200 -\n"
          ]
        },
        {
          "name": "stdout",
          "output_type": "stream",
          "text": [
            "Received message: {'in': [], 'out': []}\n"
          ]
        },
        {
          "name": "stderr",
          "output_type": "stream",
          "text": [
            "INFO:werkzeug:127.0.0.1 - - [10/Mar/2025 17:08:38] \"POST /message HTTP/1.1\" 200 -\n"
          ]
        },
        {
          "name": "stdout",
          "output_type": "stream",
          "text": [
            "Received message: {'in': [], 'out': []}\n"
          ]
        },
        {
          "name": "stderr",
          "output_type": "stream",
          "text": [
            "INFO:werkzeug:127.0.0.1 - - [10/Mar/2025 17:08:43] \"POST /message HTTP/1.1\" 200 -\n"
          ]
        },
        {
          "name": "stdout",
          "output_type": "stream",
          "text": [
            "Received message: {'in': [], 'out': []}\n"
          ]
        },
        {
          "name": "stderr",
          "output_type": "stream",
          "text": [
            "INFO:werkzeug:127.0.0.1 - - [10/Mar/2025 17:08:47] \"POST /message HTTP/1.1\" 200 -\n"
          ]
        },
        {
          "name": "stdout",
          "output_type": "stream",
          "text": [
            "Received message: {'in': [], 'out': []}\n"
          ]
        },
        {
          "name": "stderr",
          "output_type": "stream",
          "text": [
            "INFO:werkzeug:127.0.0.1 - - [10/Mar/2025 17:08:57] \"POST /message HTTP/1.1\" 200 -\n"
          ]
        },
        {
          "name": "stdout",
          "output_type": "stream",
          "text": [
            "Received message: {'in': [], 'out': []}\n"
          ]
        },
        {
          "name": "stderr",
          "output_type": "stream",
          "text": [
            "INFO:werkzeug:127.0.0.1 - - [10/Mar/2025 17:09:01] \"POST /message HTTP/1.1\" 200 -\n"
          ]
        },
        {
          "name": "stdout",
          "output_type": "stream",
          "text": [
            "Received message: {'in': ['milk'], 'out': []}\n"
          ]
        },
        {
          "name": "stderr",
          "output_type": "stream",
          "text": [
            "INFO:werkzeug:127.0.0.1 - - [10/Mar/2025 17:09:05] \"POST /message HTTP/1.1\" 200 -\n"
          ]
        },
        {
          "name": "stdout",
          "output_type": "stream",
          "text": [
            "Received message: {'in': [], 'out': ['coke']}\n"
          ]
        },
        {
          "name": "stderr",
          "output_type": "stream",
          "text": [
            "INFO:werkzeug:127.0.0.1 - - [10/Mar/2025 17:09:13] \"POST /message HTTP/1.1\" 200 -\n"
          ]
        },
        {
          "name": "stdout",
          "output_type": "stream",
          "text": [
            "Received message: {'in': [], 'out': ['coke']}\n"
          ]
        },
        {
          "name": "stderr",
          "output_type": "stream",
          "text": [
            "INFO:werkzeug:127.0.0.1 - - [10/Mar/2025 17:09:18] \"POST /message HTTP/1.1\" 200 -\n"
          ]
        },
        {
          "name": "stdout",
          "output_type": "stream",
          "text": [
            "Received message: {'in': [], 'out': []}\n"
          ]
        },
        {
          "name": "stderr",
          "output_type": "stream",
          "text": [
            "INFO:werkzeug:127.0.0.1 - - [10/Mar/2025 17:09:22] \"POST /message HTTP/1.1\" 200 -\n"
          ]
        },
        {
          "name": "stdout",
          "output_type": "stream",
          "text": [
            "Received message: {'in': [], 'out': []}\n"
          ]
        },
        {
          "name": "stderr",
          "output_type": "stream",
          "text": [
            "INFO:werkzeug:127.0.0.1 - - [10/Mar/2025 17:09:26] \"POST /message HTTP/1.1\" 200 -\n"
          ]
        },
        {
          "name": "stdout",
          "output_type": "stream",
          "text": [
            "Received message: {'in': [], 'out': []}\n"
          ]
        },
        {
          "name": "stderr",
          "output_type": "stream",
          "text": [
            "INFO:werkzeug:127.0.0.1 - - [10/Mar/2025 17:09:30] \"POST /message HTTP/1.1\" 200 -\n",
            "INFO:werkzeug:127.0.0.1 - - [10/Mar/2025 17:09:30] \"\u001b[35m\u001b[1mGET /socket.io/?EIO=4&transport=websocket HTTP/1.1\u001b[0m\" 500 -\n"
          ]
        },
        {
          "name": "stdout",
          "output_type": "stream",
          "text": [
            "Received message: {'in': [], 'out': []}\n"
          ]
        },
        {
          "name": "stderr",
          "output_type": "stream",
          "text": [
            "ERROR:werkzeug:Error on request:\n",
            "Traceback (most recent call last):\n",
            "  File \"/usr/local/lib/python3.11/dist-packages/werkzeug/serving.py\", line 370, in run_wsgi\n",
            "    execute(self.server.app)\n",
            "  File \"/usr/local/lib/python3.11/dist-packages/werkzeug/serving.py\", line 336, in execute\n",
            "    write(b\"\")\n",
            "  File \"/usr/local/lib/python3.11/dist-packages/werkzeug/serving.py\", line 261, in write\n",
            "    assert status_set is not None, \"write() before start_response\"\n",
            "           ^^^^^^^^^^^^^^^^^^^^^^^^^^^^^^^^^^^^^^^^^^^^^^^^^^^^^^^\n",
            "AssertionError: write() before start_response\n",
            "INFO:werkzeug:127.0.0.1 - - [10/Mar/2025 17:09:36] \"POST /message HTTP/1.1\" 200 -\n"
          ]
        },
        {
          "name": "stdout",
          "output_type": "stream",
          "text": [
            "Received message: {'in': ['milk'], 'out': []}\n"
          ]
        },
        {
          "name": "stderr",
          "output_type": "stream",
          "text": [
            "INFO:werkzeug:127.0.0.1 - - [10/Mar/2025 17:09:40] \"POST /message HTTP/1.1\" 200 -\n"
          ]
        },
        {
          "name": "stdout",
          "output_type": "stream",
          "text": [
            "Received message: {'in': ['milk'], 'out': []}\n"
          ]
        },
        {
          "name": "stderr",
          "output_type": "stream",
          "text": [
            "INFO:werkzeug:127.0.0.1 - - [10/Mar/2025 17:09:44] \"POST /message HTTP/1.1\" 200 -\n"
          ]
        },
        {
          "name": "stdout",
          "output_type": "stream",
          "text": [
            "Received message: {'in': [], 'out': []}\n"
          ]
        },
        {
          "name": "stderr",
          "output_type": "stream",
          "text": [
            "INFO:werkzeug:127.0.0.1 - - [10/Mar/2025 17:09:49] \"POST /message HTTP/1.1\" 200 -\n"
          ]
        },
        {
          "name": "stdout",
          "output_type": "stream",
          "text": [
            "Received message: {'in': [], 'out': []}\n"
          ]
        },
        {
          "name": "stderr",
          "output_type": "stream",
          "text": [
            "INFO:werkzeug:127.0.0.1 - - [10/Mar/2025 17:10:04] \"POST /message HTTP/1.1\" 200 -\n"
          ]
        },
        {
          "name": "stdout",
          "output_type": "stream",
          "text": [
            "Received message: {'in': [], 'out': []}\n"
          ]
        },
        {
          "name": "stderr",
          "output_type": "stream",
          "text": [
            "INFO:werkzeug:127.0.0.1 - - [10/Mar/2025 17:10:08] \"POST /message HTTP/1.1\" 200 -\n"
          ]
        },
        {
          "name": "stdout",
          "output_type": "stream",
          "text": [
            "Received message: {'in': [], 'out': ['coke']}\n"
          ]
        },
        {
          "name": "stderr",
          "output_type": "stream",
          "text": [
            "INFO:werkzeug:127.0.0.1 - - [10/Mar/2025 17:10:13] \"POST /message HTTP/1.1\" 200 -\n"
          ]
        },
        {
          "name": "stdout",
          "output_type": "stream",
          "text": [
            "Received message: {'in': [], 'out': []}\n"
          ]
        },
        {
          "name": "stderr",
          "output_type": "stream",
          "text": [
            "INFO:werkzeug:127.0.0.1 - - [10/Mar/2025 17:10:17] \"POST /message HTTP/1.1\" 200 -\n"
          ]
        },
        {
          "name": "stdout",
          "output_type": "stream",
          "text": [
            "Received message: {'in': [], 'out': ['coke']}\n"
          ]
        },
        {
          "name": "stderr",
          "output_type": "stream",
          "text": [
            "INFO:werkzeug:127.0.0.1 - - [10/Mar/2025 17:10:22] \"POST /message HTTP/1.1\" 200 -\n"
          ]
        },
        {
          "name": "stdout",
          "output_type": "stream",
          "text": [
            "Received message: {'in': ['milk'], 'out': []}\n"
          ]
        },
        {
          "name": "stderr",
          "output_type": "stream",
          "text": [
            "INFO:werkzeug:127.0.0.1 - - [10/Mar/2025 17:10:26] \"POST /message HTTP/1.1\" 200 -\n"
          ]
        },
        {
          "name": "stdout",
          "output_type": "stream",
          "text": [
            "Received message: {'in': [], 'out': []}\n"
          ]
        },
        {
          "name": "stderr",
          "output_type": "stream",
          "text": [
            "INFO:werkzeug:127.0.0.1 - - [10/Mar/2025 17:10:30] \"POST /message HTTP/1.1\" 200 -\n"
          ]
        },
        {
          "name": "stdout",
          "output_type": "stream",
          "text": [
            "Received message: {'in': [], 'out': ['coke']}\n"
          ]
        },
        {
          "name": "stderr",
          "output_type": "stream",
          "text": [
            "INFO:werkzeug:127.0.0.1 - - [10/Mar/2025 17:10:37] \"POST /message HTTP/1.1\" 200 -\n"
          ]
        },
        {
          "name": "stdout",
          "output_type": "stream",
          "text": [
            "Received message: {'in': [], 'out': []}\n"
          ]
        },
        {
          "name": "stderr",
          "output_type": "stream",
          "text": [
            "INFO:werkzeug:127.0.0.1 - - [10/Mar/2025 17:10:42] \"POST /message HTTP/1.1\" 200 -\n"
          ]
        },
        {
          "name": "stdout",
          "output_type": "stream",
          "text": [
            "Received message: {'in': ['coke'], 'out': []}\n"
          ]
        },
        {
          "name": "stderr",
          "output_type": "stream",
          "text": [
            "INFO:werkzeug:127.0.0.1 - - [10/Mar/2025 17:10:47] \"POST /message HTTP/1.1\" 200 -\n"
          ]
        },
        {
          "name": "stdout",
          "output_type": "stream",
          "text": [
            "Received message: {'in': [], 'out': ['pittas']}\n"
          ]
        },
        {
          "name": "stderr",
          "output_type": "stream",
          "text": [
            "INFO:werkzeug:127.0.0.1 - - [10/Mar/2025 17:10:52] \"POST /message HTTP/1.1\" 200 -\n"
          ]
        },
        {
          "name": "stdout",
          "output_type": "stream",
          "text": [
            "Received message: {'in': [], 'out': ['milk']}\n"
          ]
        },
        {
          "name": "stderr",
          "output_type": "stream",
          "text": [
            "INFO:werkzeug:127.0.0.1 - - [10/Mar/2025 17:10:57] \"POST /message HTTP/1.1\" 200 -\n"
          ]
        },
        {
          "name": "stdout",
          "output_type": "stream",
          "text": [
            "Received message: {'in': ['coke'], 'out': ['milk']}\n"
          ]
        },
        {
          "name": "stderr",
          "output_type": "stream",
          "text": [
            "INFO:werkzeug:127.0.0.1 - - [10/Mar/2025 17:11:03] \"POST /message HTTP/1.1\" 200 -\n"
          ]
        },
        {
          "name": "stdout",
          "output_type": "stream",
          "text": [
            "Received message: {'in': ['coke'], 'out': []}\n"
          ]
        },
        {
          "name": "stderr",
          "output_type": "stream",
          "text": [
            "INFO:werkzeug:127.0.0.1 - - [10/Mar/2025 17:11:07] \"POST /message HTTP/1.1\" 200 -\n"
          ]
        },
        {
          "name": "stdout",
          "output_type": "stream",
          "text": [
            "Received message: {'in': ['coke'], 'out': []}\n"
          ]
        },
        {
          "name": "stderr",
          "output_type": "stream",
          "text": [
            "INFO:werkzeug:127.0.0.1 - - [10/Mar/2025 17:11:12] \"POST /message HTTP/1.1\" 200 -\n"
          ]
        },
        {
          "name": "stdout",
          "output_type": "stream",
          "text": [
            "Received message: {'in': ['milk'], 'out': []}\n"
          ]
        },
        {
          "name": "stderr",
          "output_type": "stream",
          "text": [
            "INFO:werkzeug:127.0.0.1 - - [10/Mar/2025 17:11:16] \"POST /message HTTP/1.1\" 200 -\n"
          ]
        },
        {
          "name": "stdout",
          "output_type": "stream",
          "text": [
            "Received message: {'in': [], 'out': []}\n"
          ]
        },
        {
          "name": "stderr",
          "output_type": "stream",
          "text": [
            "INFO:werkzeug:127.0.0.1 - - [10/Mar/2025 17:11:21] \"POST /message HTTP/1.1\" 200 -\n"
          ]
        },
        {
          "name": "stdout",
          "output_type": "stream",
          "text": [
            "Received message: {'in': [], 'out': []}\n"
          ]
        },
        {
          "name": "stderr",
          "output_type": "stream",
          "text": [
            "INFO:werkzeug:127.0.0.1 - - [10/Mar/2025 17:11:21] \"\u001b[35m\u001b[1mGET /socket.io/?EIO=4&transport=websocket HTTP/1.1\u001b[0m\" 500 -\n",
            "ERROR:werkzeug:Error on request:\n",
            "Traceback (most recent call last):\n",
            "  File \"/usr/local/lib/python3.11/dist-packages/werkzeug/serving.py\", line 370, in run_wsgi\n",
            "    execute(self.server.app)\n",
            "  File \"/usr/local/lib/python3.11/dist-packages/werkzeug/serving.py\", line 336, in execute\n",
            "    write(b\"\")\n",
            "  File \"/usr/local/lib/python3.11/dist-packages/werkzeug/serving.py\", line 261, in write\n",
            "    assert status_set is not None, \"write() before start_response\"\n",
            "           ^^^^^^^^^^^^^^^^^^^^^^^^^^^^^^^^^^^^^^^^^^^^^^^^^^^^^^^\n",
            "AssertionError: write() before start_response\n",
            "INFO:werkzeug:127.0.0.1 - - [10/Mar/2025 17:11:26] \"POST /message HTTP/1.1\" 200 -\n"
          ]
        },
        {
          "name": "stdout",
          "output_type": "stream",
          "text": [
            "Received message: {'in': ['milk'], 'out': []}\n"
          ]
        },
        {
          "name": "stderr",
          "output_type": "stream",
          "text": [
            "INFO:werkzeug:127.0.0.1 - - [10/Mar/2025 17:11:31] \"POST /message HTTP/1.1\" 200 -\n"
          ]
        },
        {
          "name": "stdout",
          "output_type": "stream",
          "text": [
            "Received message: {'in': [], 'out': []}\n"
          ]
        },
        {
          "name": "stderr",
          "output_type": "stream",
          "text": [
            "INFO:werkzeug:127.0.0.1 - - [10/Mar/2025 17:11:35] \"POST /message HTTP/1.1\" 200 -\n"
          ]
        },
        {
          "name": "stdout",
          "output_type": "stream",
          "text": [
            "Received message: {'in': [], 'out': []}\n"
          ]
        },
        {
          "name": "stderr",
          "output_type": "stream",
          "text": [
            "INFO:werkzeug:127.0.0.1 - - [10/Mar/2025 17:11:40] \"POST /message HTTP/1.1\" 200 -\n"
          ]
        },
        {
          "name": "stdout",
          "output_type": "stream",
          "text": [
            "Received message: {'in': [], 'out': []}\n"
          ]
        },
        {
          "name": "stderr",
          "output_type": "stream",
          "text": [
            "INFO:werkzeug:127.0.0.1 - - [10/Mar/2025 17:11:43] \"POST /message HTTP/1.1\" 200 -\n"
          ]
        },
        {
          "name": "stdout",
          "output_type": "stream",
          "text": [
            "Received message: {'in': [], 'out': ['milk']}\n"
          ]
        },
        {
          "name": "stderr",
          "output_type": "stream",
          "text": [
            "INFO:werkzeug:127.0.0.1 - - [10/Mar/2025 17:11:48] \"POST /message HTTP/1.1\" 200 -\n"
          ]
        },
        {
          "name": "stdout",
          "output_type": "stream",
          "text": [
            "Received message: {'in': [], 'out': ['milk']}\n"
          ]
        },
        {
          "name": "stderr",
          "output_type": "stream",
          "text": [
            "INFO:werkzeug:127.0.0.1 - - [10/Mar/2025 17:11:51] \"POST /message HTTP/1.1\" 200 -\n"
          ]
        },
        {
          "name": "stdout",
          "output_type": "stream",
          "text": [
            "Received message: {'in': [], 'out': []}\n"
          ]
        },
        {
          "name": "stderr",
          "output_type": "stream",
          "text": [
            "INFO:werkzeug:127.0.0.1 - - [10/Mar/2025 17:11:53] \"\u001b[35m\u001b[1mGET /socket.io/?EIO=4&transport=websocket HTTP/1.1\u001b[0m\" 500 -\n",
            "ERROR:werkzeug:Error on request:\n",
            "Traceback (most recent call last):\n",
            "  File \"/usr/local/lib/python3.11/dist-packages/werkzeug/serving.py\", line 370, in run_wsgi\n",
            "    execute(self.server.app)\n",
            "  File \"/usr/local/lib/python3.11/dist-packages/werkzeug/serving.py\", line 336, in execute\n",
            "    write(b\"\")\n",
            "  File \"/usr/local/lib/python3.11/dist-packages/werkzeug/serving.py\", line 261, in write\n",
            "    assert status_set is not None, \"write() before start_response\"\n",
            "           ^^^^^^^^^^^^^^^^^^^^^^^^^^^^^^^^^^^^^^^^^^^^^^^^^^^^^^^\n",
            "AssertionError: write() before start_response\n",
            "INFO:werkzeug:127.0.0.1 - - [10/Mar/2025 17:11:59] \"POST /message HTTP/1.1\" 200 -\n"
          ]
        },
        {
          "name": "stdout",
          "output_type": "stream",
          "text": [
            "Received message: {'in': [], 'out': []}\n"
          ]
        },
        {
          "name": "stderr",
          "output_type": "stream",
          "text": [
            "INFO:werkzeug:127.0.0.1 - - [10/Mar/2025 17:12:00] \"\u001b[35m\u001b[1mGET /socket.io/?EIO=4&transport=websocket HTTP/1.1\u001b[0m\" 500 -\n",
            "ERROR:werkzeug:Error on request:\n",
            "Traceback (most recent call last):\n",
            "  File \"/usr/local/lib/python3.11/dist-packages/werkzeug/serving.py\", line 370, in run_wsgi\n",
            "    execute(self.server.app)\n",
            "  File \"/usr/local/lib/python3.11/dist-packages/werkzeug/serving.py\", line 336, in execute\n",
            "    write(b\"\")\n",
            "  File \"/usr/local/lib/python3.11/dist-packages/werkzeug/serving.py\", line 261, in write\n",
            "    assert status_set is not None, \"write() before start_response\"\n",
            "           ^^^^^^^^^^^^^^^^^^^^^^^^^^^^^^^^^^^^^^^^^^^^^^^^^^^^^^^\n",
            "AssertionError: write() before start_response\n",
            "INFO:werkzeug:127.0.0.1 - - [10/Mar/2025 17:12:08] \"POST /message HTTP/1.1\" 200 -\n"
          ]
        },
        {
          "name": "stdout",
          "output_type": "stream",
          "text": [
            "Received message: {'in': [], 'out': []}\n"
          ]
        },
        {
          "name": "stderr",
          "output_type": "stream",
          "text": [
            "INFO:werkzeug:127.0.0.1 - - [10/Mar/2025 17:12:12] \"POST /message HTTP/1.1\" 200 -\n"
          ]
        },
        {
          "name": "stdout",
          "output_type": "stream",
          "text": [
            "Received message: {'in': [], 'out': []}\n"
          ]
        },
        {
          "name": "stderr",
          "output_type": "stream",
          "text": [
            "INFO:werkzeug:127.0.0.1 - - [10/Mar/2025 17:12:16] \"POST /message HTTP/1.1\" 200 -\n"
          ]
        },
        {
          "name": "stdout",
          "output_type": "stream",
          "text": [
            "Received message: {'in': [], 'out': []}\n"
          ]
        },
        {
          "name": "stderr",
          "output_type": "stream",
          "text": [
            "INFO:werkzeug:127.0.0.1 - - [10/Mar/2025 17:12:21] \"POST /message HTTP/1.1\" 200 -\n"
          ]
        },
        {
          "name": "stdout",
          "output_type": "stream",
          "text": [
            "Received message: {'in': [], 'out': []}\n"
          ]
        },
        {
          "name": "stderr",
          "output_type": "stream",
          "text": [
            "INFO:werkzeug:127.0.0.1 - - [10/Mar/2025 17:12:26] \"POST /message HTTP/1.1\" 200 -\n"
          ]
        },
        {
          "name": "stdout",
          "output_type": "stream",
          "text": [
            "Received message: {'in': [], 'out': ['milk']}\n"
          ]
        },
        {
          "name": "stderr",
          "output_type": "stream",
          "text": [
            "INFO:werkzeug:127.0.0.1 - - [10/Mar/2025 17:12:31] \"POST /message HTTP/1.1\" 200 -\n"
          ]
        },
        {
          "name": "stdout",
          "output_type": "stream",
          "text": [
            "Received message: {'in': [], 'out': []}\n"
          ]
        },
        {
          "name": "stderr",
          "output_type": "stream",
          "text": [
            "INFO:werkzeug:127.0.0.1 - - [10/Mar/2025 17:12:36] \"POST /message HTTP/1.1\" 200 -\n"
          ]
        },
        {
          "name": "stdout",
          "output_type": "stream",
          "text": [
            "Received message: {'in': [], 'out': []}\n"
          ]
        },
        {
          "name": "stderr",
          "output_type": "stream",
          "text": [
            "INFO:werkzeug:127.0.0.1 - - [10/Mar/2025 17:12:39] \"POST /message HTTP/1.1\" 200 -\n"
          ]
        },
        {
          "name": "stdout",
          "output_type": "stream",
          "text": [
            "Received message: {'in': [], 'out': ['milk']}\n"
          ]
        },
        {
          "name": "stderr",
          "output_type": "stream",
          "text": [
            "INFO:werkzeug:127.0.0.1 - - [10/Mar/2025 17:12:46] \"POST /message HTTP/1.1\" 200 -\n"
          ]
        },
        {
          "name": "stdout",
          "output_type": "stream",
          "text": [
            "Received message: {'in': [], 'out': []}\n"
          ]
        },
        {
          "name": "stderr",
          "output_type": "stream",
          "text": [
            "INFO:werkzeug:127.0.0.1 - - [10/Mar/2025 17:12:53] \"POST /message HTTP/1.1\" 200 -\n"
          ]
        },
        {
          "name": "stdout",
          "output_type": "stream",
          "text": [
            "Received message: {'in': [], 'out': []}\n"
          ]
        },
        {
          "name": "stderr",
          "output_type": "stream",
          "text": [
            "INFO:werkzeug:127.0.0.1 - - [10/Mar/2025 17:12:53] \"\u001b[35m\u001b[1mGET /socket.io/?EIO=4&transport=websocket HTTP/1.1\u001b[0m\" 500 -\n",
            "ERROR:werkzeug:Error on request:\n",
            "Traceback (most recent call last):\n",
            "  File \"/usr/local/lib/python3.11/dist-packages/werkzeug/serving.py\", line 370, in run_wsgi\n",
            "    execute(self.server.app)\n",
            "  File \"/usr/local/lib/python3.11/dist-packages/werkzeug/serving.py\", line 336, in execute\n",
            "    write(b\"\")\n",
            "  File \"/usr/local/lib/python3.11/dist-packages/werkzeug/serving.py\", line 261, in write\n",
            "    assert status_set is not None, \"write() before start_response\"\n",
            "           ^^^^^^^^^^^^^^^^^^^^^^^^^^^^^^^^^^^^^^^^^^^^^^^^^^^^^^^\n",
            "AssertionError: write() before start_response\n",
            "INFO:werkzeug:127.0.0.1 - - [10/Mar/2025 17:12:59] \"POST /message HTTP/1.1\" 200 -\n"
          ]
        },
        {
          "name": "stdout",
          "output_type": "stream",
          "text": [
            "Received message: {'in': ['coke', 'milk'], 'out': []}\n"
          ]
        },
        {
          "name": "stderr",
          "output_type": "stream",
          "text": [
            "INFO:werkzeug:127.0.0.1 - - [10/Mar/2025 17:13:02] \"POST /message HTTP/1.1\" 200 -\n"
          ]
        },
        {
          "name": "stdout",
          "output_type": "stream",
          "text": [
            "Received message: {'in': ['milk'], 'out': []}\n"
          ]
        },
        {
          "name": "stderr",
          "output_type": "stream",
          "text": [
            "INFO:werkzeug:127.0.0.1 - - [10/Mar/2025 17:13:07] \"POST /message HTTP/1.1\" 200 -\n"
          ]
        },
        {
          "name": "stdout",
          "output_type": "stream",
          "text": [
            "Received message: {'in': [], 'out': ['milk']}\n"
          ]
        },
        {
          "name": "stderr",
          "output_type": "stream",
          "text": [
            "INFO:werkzeug:127.0.0.1 - - [10/Mar/2025 17:13:15] \"POST /message HTTP/1.1\" 200 -\n"
          ]
        },
        {
          "name": "stdout",
          "output_type": "stream",
          "text": [
            "Received message: {'in': [], 'out': ['coke']}\n"
          ]
        },
        {
          "name": "stderr",
          "output_type": "stream",
          "text": [
            "INFO:werkzeug:127.0.0.1 - - [10/Mar/2025 17:13:16] \"\u001b[35m\u001b[1mGET /socket.io/?EIO=4&transport=websocket HTTP/1.1\u001b[0m\" 500 -\n",
            "ERROR:werkzeug:Error on request:\n",
            "Traceback (most recent call last):\n",
            "  File \"/usr/local/lib/python3.11/dist-packages/werkzeug/serving.py\", line 370, in run_wsgi\n",
            "    execute(self.server.app)\n",
            "  File \"/usr/local/lib/python3.11/dist-packages/werkzeug/serving.py\", line 336, in execute\n",
            "    write(b\"\")\n",
            "  File \"/usr/local/lib/python3.11/dist-packages/werkzeug/serving.py\", line 261, in write\n",
            "    assert status_set is not None, \"write() before start_response\"\n",
            "           ^^^^^^^^^^^^^^^^^^^^^^^^^^^^^^^^^^^^^^^^^^^^^^^^^^^^^^^\n",
            "AssertionError: write() before start_response\n",
            "INFO:werkzeug:127.0.0.1 - - [10/Mar/2025 17:13:20] \"POST /message HTTP/1.1\" 200 -\n"
          ]
        },
        {
          "name": "stdout",
          "output_type": "stream",
          "text": [
            "Received message: {'in': [], 'out': []}\n"
          ]
        },
        {
          "name": "stderr",
          "output_type": "stream",
          "text": [
            "INFO:werkzeug:127.0.0.1 - - [10/Mar/2025 17:13:22] \"\u001b[35m\u001b[1mGET /socket.io/?EIO=4&transport=websocket HTTP/1.1\u001b[0m\" 500 -\n",
            "ERROR:werkzeug:Error on request:\n",
            "Traceback (most recent call last):\n",
            "  File \"/usr/local/lib/python3.11/dist-packages/werkzeug/serving.py\", line 370, in run_wsgi\n",
            "    execute(self.server.app)\n",
            "  File \"/usr/local/lib/python3.11/dist-packages/werkzeug/serving.py\", line 336, in execute\n",
            "    write(b\"\")\n",
            "  File \"/usr/local/lib/python3.11/dist-packages/werkzeug/serving.py\", line 261, in write\n",
            "    assert status_set is not None, \"write() before start_response\"\n",
            "           ^^^^^^^^^^^^^^^^^^^^^^^^^^^^^^^^^^^^^^^^^^^^^^^^^^^^^^^\n",
            "AssertionError: write() before start_response\n",
            "INFO:werkzeug:127.0.0.1 - - [10/Mar/2025 17:13:25] \"POST /message HTTP/1.1\" 200 -\n"
          ]
        },
        {
          "name": "stdout",
          "output_type": "stream",
          "text": [
            "Received message: {'in': [], 'out': []}\n"
          ]
        },
        {
          "name": "stderr",
          "output_type": "stream",
          "text": [
            "INFO:werkzeug:127.0.0.1 - - [10/Mar/2025 17:13:29] \"POST /message HTTP/1.1\" 200 -\n"
          ]
        },
        {
          "name": "stdout",
          "output_type": "stream",
          "text": [
            "Received message: {'in': [], 'out': []}\n"
          ]
        },
        {
          "name": "stderr",
          "output_type": "stream",
          "text": [
            "INFO:werkzeug:127.0.0.1 - - [10/Mar/2025 17:13:33] \"POST /message HTTP/1.1\" 200 -\n"
          ]
        },
        {
          "name": "stdout",
          "output_type": "stream",
          "text": [
            "Received message: {'in': [], 'out': []}\n"
          ]
        },
        {
          "name": "stderr",
          "output_type": "stream",
          "text": [
            "INFO:werkzeug:127.0.0.1 - - [10/Mar/2025 17:13:37] \"POST /message HTTP/1.1\" 200 -\n"
          ]
        },
        {
          "name": "stdout",
          "output_type": "stream",
          "text": [
            "Received message: {'in': [], 'out': ['milk']}\n"
          ]
        },
        {
          "name": "stderr",
          "output_type": "stream",
          "text": [
            "INFO:werkzeug:127.0.0.1 - - [10/Mar/2025 17:13:41] \"POST /message HTTP/1.1\" 200 -\n"
          ]
        },
        {
          "name": "stdout",
          "output_type": "stream",
          "text": [
            "Received message: {'in': [], 'out': []}\n"
          ]
        },
        {
          "name": "stderr",
          "output_type": "stream",
          "text": [
            "INFO:werkzeug:127.0.0.1 - - [10/Mar/2025 17:13:46] \"POST /message HTTP/1.1\" 200 -\n"
          ]
        },
        {
          "name": "stdout",
          "output_type": "stream",
          "text": [
            "Received message: {'in': [], 'out': ['coke']}\n"
          ]
        },
        {
          "name": "stderr",
          "output_type": "stream",
          "text": [
            "INFO:werkzeug:127.0.0.1 - - [10/Mar/2025 17:13:51] \"POST /message HTTP/1.1\" 200 -\n"
          ]
        },
        {
          "name": "stdout",
          "output_type": "stream",
          "text": [
            "Received message: {'in': [], 'out': []}\n"
          ]
        },
        {
          "name": "stderr",
          "output_type": "stream",
          "text": [
            "INFO:werkzeug:127.0.0.1 - - [10/Mar/2025 17:13:58] \"POST /message HTTP/1.1\" 200 -\n"
          ]
        },
        {
          "name": "stdout",
          "output_type": "stream",
          "text": [
            "Received message: {'in': [], 'out': []}\n"
          ]
        },
        {
          "name": "stderr",
          "output_type": "stream",
          "text": [
            "INFO:werkzeug:127.0.0.1 - - [10/Mar/2025 17:14:02] \"POST /message HTTP/1.1\" 200 -\n"
          ]
        },
        {
          "name": "stdout",
          "output_type": "stream",
          "text": [
            "Received message: {'in': [], 'out': []}\n"
          ]
        },
        {
          "name": "stderr",
          "output_type": "stream",
          "text": [
            "INFO:werkzeug:127.0.0.1 - - [10/Mar/2025 17:14:07] \"POST /message HTTP/1.1\" 200 -\n"
          ]
        },
        {
          "name": "stdout",
          "output_type": "stream",
          "text": [
            "Received message: {'in': [], 'out': ['milk']}\n"
          ]
        },
        {
          "name": "stderr",
          "output_type": "stream",
          "text": [
            "INFO:werkzeug:127.0.0.1 - - [10/Mar/2025 17:14:12] \"POST /message HTTP/1.1\" 200 -\n"
          ]
        },
        {
          "name": "stdout",
          "output_type": "stream",
          "text": [
            "Received message: {'in': [], 'out': []}\n"
          ]
        },
        {
          "name": "stderr",
          "output_type": "stream",
          "text": [
            "INFO:werkzeug:127.0.0.1 - - [10/Mar/2025 17:14:17] \"POST /message HTTP/1.1\" 200 -\n"
          ]
        },
        {
          "name": "stdout",
          "output_type": "stream",
          "text": [
            "Received message: {'in': [], 'out': []}\n"
          ]
        },
        {
          "name": "stderr",
          "output_type": "stream",
          "text": [
            "INFO:werkzeug:127.0.0.1 - - [10/Mar/2025 17:14:18] \"\u001b[35m\u001b[1mGET /socket.io/?EIO=4&transport=websocket HTTP/1.1\u001b[0m\" 500 -\n",
            "ERROR:werkzeug:Error on request:\n",
            "Traceback (most recent call last):\n",
            "  File \"/usr/local/lib/python3.11/dist-packages/werkzeug/serving.py\", line 370, in run_wsgi\n",
            "    execute(self.server.app)\n",
            "  File \"/usr/local/lib/python3.11/dist-packages/werkzeug/serving.py\", line 336, in execute\n",
            "    write(b\"\")\n",
            "  File \"/usr/local/lib/python3.11/dist-packages/werkzeug/serving.py\", line 261, in write\n",
            "    assert status_set is not None, \"write() before start_response\"\n",
            "           ^^^^^^^^^^^^^^^^^^^^^^^^^^^^^^^^^^^^^^^^^^^^^^^^^^^^^^^\n",
            "AssertionError: write() before start_response\n",
            "INFO:werkzeug:127.0.0.1 - - [10/Mar/2025 17:14:21] \"POST /message HTTP/1.1\" 200 -\n"
          ]
        },
        {
          "name": "stdout",
          "output_type": "stream",
          "text": [
            "Received message: {'in': [], 'out': []}\n"
          ]
        },
        {
          "name": "stderr",
          "output_type": "stream",
          "text": [
            "INFO:werkzeug:127.0.0.1 - - [10/Mar/2025 17:14:29] \"POST /message HTTP/1.1\" 200 -\n"
          ]
        },
        {
          "name": "stdout",
          "output_type": "stream",
          "text": [
            "Received message: {'in': [], 'out': []}\n"
          ]
        },
        {
          "name": "stderr",
          "output_type": "stream",
          "text": [
            "INFO:werkzeug:127.0.0.1 - - [10/Mar/2025 17:14:38] \"POST /message HTTP/1.1\" 200 -\n"
          ]
        },
        {
          "name": "stdout",
          "output_type": "stream",
          "text": [
            "Received message: {'in': [], 'out': []}\n"
          ]
        },
        {
          "name": "stderr",
          "output_type": "stream",
          "text": [
            "INFO:werkzeug:127.0.0.1 - - [10/Mar/2025 17:16:13] \"\u001b[35m\u001b[1mGET /socket.io/?EIO=4&transport=websocket HTTP/1.1\u001b[0m\" 500 -\n",
            "ERROR:werkzeug:Error on request:\n",
            "Traceback (most recent call last):\n",
            "  File \"/usr/local/lib/python3.11/dist-packages/werkzeug/serving.py\", line 370, in run_wsgi\n",
            "    execute(self.server.app)\n",
            "  File \"/usr/local/lib/python3.11/dist-packages/werkzeug/serving.py\", line 336, in execute\n",
            "    write(b\"\")\n",
            "  File \"/usr/local/lib/python3.11/dist-packages/werkzeug/serving.py\", line 261, in write\n",
            "    assert status_set is not None, \"write() before start_response\"\n",
            "           ^^^^^^^^^^^^^^^^^^^^^^^^^^^^^^^^^^^^^^^^^^^^^^^^^^^^^^^\n",
            "AssertionError: write() before start_response\n",
            "INFO:werkzeug:127.0.0.1 - - [10/Mar/2025 17:28:19] \"\u001b[35m\u001b[1mGET /socket.io/?EIO=4&transport=websocket HTTP/1.1\u001b[0m\" 500 -\n",
            "ERROR:werkzeug:Error on request:\n",
            "Traceback (most recent call last):\n",
            "  File \"/usr/local/lib/python3.11/dist-packages/werkzeug/serving.py\", line 370, in run_wsgi\n",
            "    execute(self.server.app)\n",
            "  File \"/usr/local/lib/python3.11/dist-packages/werkzeug/serving.py\", line 336, in execute\n",
            "    write(b\"\")\n",
            "  File \"/usr/local/lib/python3.11/dist-packages/werkzeug/serving.py\", line 261, in write\n",
            "    assert status_set is not None, \"write() before start_response\"\n",
            "           ^^^^^^^^^^^^^^^^^^^^^^^^^^^^^^^^^^^^^^^^^^^^^^^^^^^^^^^\n",
            "AssertionError: write() before start_response\n",
            "INFO:werkzeug:127.0.0.1 - - [10/Mar/2025 17:42:57] \"\u001b[35m\u001b[1mGET /socket.io/?EIO=4&transport=websocket HTTP/1.1\u001b[0m\" 500 -\n",
            "ERROR:werkzeug:Error on request:\n",
            "Traceback (most recent call last):\n",
            "  File \"/usr/local/lib/python3.11/dist-packages/werkzeug/serving.py\", line 370, in run_wsgi\n",
            "    execute(self.server.app)\n",
            "  File \"/usr/local/lib/python3.11/dist-packages/werkzeug/serving.py\", line 336, in execute\n",
            "    write(b\"\")\n",
            "  File \"/usr/local/lib/python3.11/dist-packages/werkzeug/serving.py\", line 261, in write\n",
            "    assert status_set is not None, \"write() before start_response\"\n",
            "           ^^^^^^^^^^^^^^^^^^^^^^^^^^^^^^^^^^^^^^^^^^^^^^^^^^^^^^^\n",
            "AssertionError: write() before start_response\n",
            "INFO:werkzeug:127.0.0.1 - - [10/Mar/2025 18:44:49] \"\u001b[35m\u001b[1mGET /socket.io/?EIO=4&transport=websocket HTTP/1.1\u001b[0m\" 500 -\n",
            "INFO:werkzeug:127.0.0.1 - - [10/Mar/2025 18:44:49] \"\u001b[35m\u001b[1mGET /socket.io/?EIO=4&transport=websocket HTTP/1.1\u001b[0m\" 500 -\n",
            "ERROR:werkzeug:Error on request:\n",
            "Traceback (most recent call last):\n",
            "  File \"/usr/local/lib/python3.11/dist-packages/werkzeug/serving.py\", line 370, in run_wsgi\n",
            "    execute(self.server.app)\n",
            "  File \"/usr/local/lib/python3.11/dist-packages/werkzeug/serving.py\", line 336, in execute\n",
            "    write(b\"\")\n",
            "  File \"/usr/local/lib/python3.11/dist-packages/werkzeug/serving.py\", line 261, in write\n",
            "    assert status_set is not None, \"write() before start_response\"\n",
            "           ^^^^^^^^^^^^^^^^^^^^^^^^^^^^^^^^^^^^^^^^^^^^^^^^^^^^^^^\n",
            "AssertionError: write() before start_response\n",
            "ERROR:werkzeug:Error on request:\n",
            "Traceback (most recent call last):\n",
            "  File \"/usr/local/lib/python3.11/dist-packages/werkzeug/serving.py\", line 370, in run_wsgi\n",
            "    execute(self.server.app)\n",
            "  File \"/usr/local/lib/python3.11/dist-packages/werkzeug/serving.py\", line 336, in execute\n",
            "    write(b\"\")\n",
            "  File \"/usr/local/lib/python3.11/dist-packages/werkzeug/serving.py\", line 261, in write\n",
            "    assert status_set is not None, \"write() before start_response\"\n",
            "           ^^^^^^^^^^^^^^^^^^^^^^^^^^^^^^^^^^^^^^^^^^^^^^^^^^^^^^^\n",
            "AssertionError: write() before start_response\n",
            "INFO:werkzeug:127.0.0.1 - - [10/Mar/2025 18:45:54] \"\u001b[35m\u001b[1mGET /socket.io/?EIO=4&transport=websocket HTTP/1.1\u001b[0m\" 500 -\n",
            "ERROR:werkzeug:Error on request:\n",
            "Traceback (most recent call last):\n",
            "  File \"/usr/local/lib/python3.11/dist-packages/werkzeug/serving.py\", line 370, in run_wsgi\n",
            "    execute(self.server.app)\n",
            "  File \"/usr/local/lib/python3.11/dist-packages/werkzeug/serving.py\", line 336, in execute\n",
            "    write(b\"\")\n",
            "  File \"/usr/local/lib/python3.11/dist-packages/werkzeug/serving.py\", line 261, in write\n",
            "    assert status_set is not None, \"write() before start_response\"\n",
            "           ^^^^^^^^^^^^^^^^^^^^^^^^^^^^^^^^^^^^^^^^^^^^^^^^^^^^^^^\n",
            "AssertionError: write() before start_response\n",
            "INFO:werkzeug:127.0.0.1 - - [10/Mar/2025 18:45:54] \"\u001b[35m\u001b[1mGET /socket.io/?EIO=4&transport=websocket HTTP/1.1\u001b[0m\" 500 -\n",
            "ERROR:werkzeug:Error on request:\n",
            "Traceback (most recent call last):\n",
            "  File \"/usr/local/lib/python3.11/dist-packages/werkzeug/serving.py\", line 370, in run_wsgi\n",
            "    execute(self.server.app)\n",
            "  File \"/usr/local/lib/python3.11/dist-packages/werkzeug/serving.py\", line 336, in execute\n",
            "    write(b\"\")\n",
            "  File \"/usr/local/lib/python3.11/dist-packages/werkzeug/serving.py\", line 261, in write\n",
            "    assert status_set is not None, \"write() before start_response\"\n",
            "           ^^^^^^^^^^^^^^^^^^^^^^^^^^^^^^^^^^^^^^^^^^^^^^^^^^^^^^^\n",
            "AssertionError: write() before start_response\n",
            "INFO:werkzeug:127.0.0.1 - - [10/Mar/2025 18:46:58] \"\u001b[35m\u001b[1mGET /socket.io/?EIO=4&transport=websocket HTTP/1.1\u001b[0m\" 500 -\n",
            "INFO:werkzeug:127.0.0.1 - - [10/Mar/2025 18:46:58] \"\u001b[35m\u001b[1mGET /socket.io/?EIO=4&transport=websocket HTTP/1.1\u001b[0m\" 500 -\n",
            "ERROR:werkzeug:Error on request:\n",
            "Traceback (most recent call last):\n",
            "  File \"/usr/local/lib/python3.11/dist-packages/werkzeug/serving.py\", line 370, in run_wsgi\n",
            "    execute(self.server.app)\n",
            "  File \"/usr/local/lib/python3.11/dist-packages/werkzeug/serving.py\", line 336, in execute\n",
            "    write(b\"\")\n",
            "  File \"/usr/local/lib/python3.11/dist-packages/werkzeug/serving.py\", line 261, in write\n",
            "    assert status_set is not None, \"write() before start_response\"\n",
            "           ^^^^^^^^^^^^^^^^^^^^^^^^^^^^^^^^^^^^^^^^^^^^^^^^^^^^^^^\n",
            "AssertionError: write() before start_response\n",
            "ERROR:werkzeug:Error on request:\n",
            "Traceback (most recent call last):\n",
            "  File \"/usr/local/lib/python3.11/dist-packages/werkzeug/serving.py\", line 370, in run_wsgi\n",
            "    execute(self.server.app)\n",
            "  File \"/usr/local/lib/python3.11/dist-packages/werkzeug/serving.py\", line 336, in execute\n",
            "    write(b\"\")\n",
            "  File \"/usr/local/lib/python3.11/dist-packages/werkzeug/serving.py\", line 261, in write\n",
            "    assert status_set is not None, \"write() before start_response\"\n",
            "           ^^^^^^^^^^^^^^^^^^^^^^^^^^^^^^^^^^^^^^^^^^^^^^^^^^^^^^^\n",
            "AssertionError: write() before start_response\n",
            "INFO:werkzeug:127.0.0.1 - - [10/Mar/2025 19:01:01] \"\u001b[35m\u001b[1mGET /socket.io/?EIO=4&transport=websocket HTTP/1.1\u001b[0m\" 500 -\n",
            "ERROR:werkzeug:Error on request:\n",
            "Traceback (most recent call last):\n",
            "  File \"/usr/local/lib/python3.11/dist-packages/werkzeug/serving.py\", line 370, in run_wsgi\n",
            "    execute(self.server.app)\n",
            "  File \"/usr/local/lib/python3.11/dist-packages/werkzeug/serving.py\", line 336, in execute\n",
            "    write(b\"\")\n",
            "  File \"/usr/local/lib/python3.11/dist-packages/werkzeug/serving.py\", line 261, in write\n",
            "    assert status_set is not None, \"write() before start_response\"\n",
            "           ^^^^^^^^^^^^^^^^^^^^^^^^^^^^^^^^^^^^^^^^^^^^^^^^^^^^^^^\n",
            "AssertionError: write() before start_response\n",
            "INFO:werkzeug:127.0.0.1 - - [10/Mar/2025 19:55:19] \"\u001b[35m\u001b[1mGET /socket.io/?EIO=4&transport=websocket HTTP/1.1\u001b[0m\" 500 -\n",
            "ERROR:werkzeug:Error on request:\n",
            "Traceback (most recent call last):\n",
            "  File \"/usr/local/lib/python3.11/dist-packages/werkzeug/serving.py\", line 370, in run_wsgi\n",
            "    execute(self.server.app)\n",
            "  File \"/usr/local/lib/python3.11/dist-packages/werkzeug/serving.py\", line 336, in execute\n",
            "    write(b\"\")\n",
            "  File \"/usr/local/lib/python3.11/dist-packages/werkzeug/serving.py\", line 261, in write\n",
            "    assert status_set is not None, \"write() before start_response\"\n",
            "           ^^^^^^^^^^^^^^^^^^^^^^^^^^^^^^^^^^^^^^^^^^^^^^^^^^^^^^^\n",
            "AssertionError: write() before start_response\n"
          ]
        }
      ],
      "source": [
        "from flask import Flask, request, render_template, jsonify\n",
        "from flask_cors import CORS\n",
        "from flask_socketio import SocketIO\n",
        "from pyngrok import ngrok\n",
        "import os\n",
        "\n",
        "\n",
        "\n",
        "app = Flask(__name__)\n",
        "CORS(app)\n",
        "app.config['SECRET_KEY'] = 'your_secret_key'\n",
        "socketio = SocketIO(app, cors_allowed_origins=\"*\")\n",
        "\n",
        "@app.route('/')\n",
        "def home():\n",
        "    return \"hello world\"\n",
        "\n",
        "@app.route('/message', methods=['POST'])\n",
        "def receive_message():\n",
        "    data = request.get_json()\n",
        "    print(\"Received message:\", data)\n",
        "    socketio.emit('new_message', data)\n",
        "    return jsonify({\"status\": \"success\", \"message\": \"Message received and broadcasted\"}), 200\n",
        "\n",
        "if __name__ == '__main__':\n",
        "\n",
        "    public_url = ngrok.connect(5000)\n",
        "    print(\"ngrok public URL:\", public_url)\n",
        "    # The following line starts the Flask development server with the allow_unsafe_werkzeug flag set to True.\n",
        "    # This should only be used during development and is NOT recommended for production.\n",
        "    # For production, consider using a production-ready WSGI server like Gunicorn or uWSGI.\n",
        "    socketio.run(app, host='0.0.0.0', port=5000, allow_unsafe_werkzeug=True)"
      ]
    }
  ],
  "metadata": {
    "colab": {
      "provenance": []
    },
    "kernelspec": {
      "display_name": "Python 3",
      "name": "python3"
    },
    "language_info": {
      "name": "python"
    }
  },
  "nbformat": 4,
  "nbformat_minor": 0
}
